{
  "nbformat": 4,
  "nbformat_minor": 0,
  "metadata": {
    "colab": {
      "name": "training.ipynb",
      "provenance": [],
      "mount_file_id": "1wUGaqTLx5duN7y19O8gAr20tjcFNTMfF",
      "authorship_tag": "ABX9TyPZnLyGstNTEmGDwYCwV9I6",
      "include_colab_link": true
    },
    "kernelspec": {
      "name": "python3",
      "display_name": "Python 3"
    },
    "language_info": {
      "name": "python"
    }
  },
  "cells": [
    {
      "cell_type": "markdown",
      "metadata": {
        "id": "view-in-github",
        "colab_type": "text"
      },
      "source": [
        "<a href=\"https://colab.research.google.com/github/Naveena0607/Internship-code/blob/main/training.ipynb\" target=\"_parent\"><img src=\"https://colab.research.google.com/assets/colab-badge.svg\" alt=\"Open In Colab\"/></a>"
      ]
    },
    {
      "cell_type": "code",
      "metadata": {
        "colab": {
          "base_uri": "https://localhost:8080/"
        },
        "id": "TCuI_zWx2Jf5",
        "outputId": "b2c17b1c-e563-40d9-e5bc-c116f1b64ddc"
      },
      "source": [
        "pip install bing-image-downloader"
      ],
      "execution_count": 1,
      "outputs": [
        {
          "output_type": "stream",
          "name": "stdout",
          "text": [
            "Collecting bing-image-downloader\n",
            "  Downloading bing_image_downloader-1.1.1-py3-none-any.whl (5.7 kB)\n",
            "Installing collected packages: bing-image-downloader\n",
            "Successfully installed bing-image-downloader-1.1.1\n"
          ]
        }
      ]
    },
    {
      "cell_type": "code",
      "metadata": {
        "id": "XSJZM99S2Y_k"
      },
      "source": [
        "!mkdir images"
      ],
      "execution_count": 2,
      "outputs": []
    },
    {
      "cell_type": "code",
      "metadata": {
        "colab": {
          "base_uri": "https://localhost:8080/"
        },
        "id": "UU2Qwg5N2fz3",
        "outputId": "5d609593-87be-4f29-bbdc-eef59501be0a"
      },
      "source": [
        "from bing_image_downloader import downloader\n",
        "downloader.download(\"pretty sunflower\",limit=30,output_dir=\"images\", adult_filter_off=True)"
      ],
      "execution_count": 3,
      "outputs": [
        {
          "output_type": "stream",
          "name": "stdout",
          "text": [
            "[%] Downloading Images to /content/images/pretty sunflower\n",
            "\n",
            "\n",
            "[!!]Indexing page: 1\n",
            "\n",
            "[%] Indexed 30 Images on Page 1.\n",
            "\n",
            "===============================================\n",
            "\n",
            "[%] Downloading Image #1 from https://i.pinimg.com/originals/d6/65/0d/d6650dfbe09a374d2a6f4fdca2f8a9f6.jpg\n",
            "[%] File Downloaded !\n",
            "\n",
            "[%] Downloading Image #2 from https://i.pinimg.com/originals/0a/10/14/0a101432514831b12543a98dafe41c3c.jpg\n",
            "[%] File Downloaded !\n",
            "\n",
            "[%] Downloading Image #3 from https://i.pinimg.com/originals/ae/dc/b4/aedcb4cfe5cc804bd93fa7397285ab69.jpg\n",
            "[%] File Downloaded !\n",
            "\n",
            "[%] Downloading Image #4 from https://i.pinimg.com/736x/ef/91/43/ef9143923ac33872314de1a5f9573052.jpg\n",
            "[%] File Downloaded !\n",
            "\n",
            "[%] Downloading Image #5 from https://i.pinimg.com/originals/f1/f7/77/f1f777383859b6d60a04b0dcdf7b08a4.jpg\n",
            "[%] File Downloaded !\n",
            "\n",
            "[%] Downloading Image #6 from https://i.pinimg.com/originals/0a/94/6c/0a946c68642d2168a7481bc712263d60.jpg\n",
            "[%] File Downloaded !\n",
            "\n",
            "[%] Downloading Image #7 from https://i.pinimg.com/originals/5a/70/49/5a70497d32b8d691cb2273b53eb987a8.jpg\n",
            "[%] File Downloaded !\n",
            "\n",
            "[%] Downloading Image #8 from https://i.pinimg.com/originals/f6/9c/39/f69c394cf7b39faed6d57db9ee520205.jpg\n",
            "[%] File Downloaded !\n",
            "\n",
            "[%] Downloading Image #9 from https://i.pinimg.com/originals/ed/3c/74/ed3c7423806796e7c8a430d3b9104db6.jpg\n",
            "[%] File Downloaded !\n",
            "\n",
            "[%] Downloading Image #10 from https://i.pinimg.com/originals/f0/a0/dc/f0a0dc28c43f3347839073cca55eb189.jpg\n",
            "[%] File Downloaded !\n",
            "\n",
            "[%] Downloading Image #11 from https://i.pinimg.com/originals/da/3f/e2/da3fe2ae498cce5fb5d6b3789e1cb10d.jpg\n",
            "[%] File Downloaded !\n",
            "\n",
            "[%] Downloading Image #12 from https://i.pinimg.com/originals/8b/10/8b/8b108bfc8b3c5f18ad44bc2d2484f58e.jpg\n",
            "[%] File Downloaded !\n",
            "\n",
            "[%] Downloading Image #13 from https://i.pinimg.com/originals/97/76/a4/9776a4956d8f3def3d608ce0eb2c4056.jpg\n",
            "[%] File Downloaded !\n",
            "\n",
            "[%] Downloading Image #14 from https://i.pinimg.com/originals/45/9c/1a/459c1a588cedc2136e98a446769cc1d2.jpg\n",
            "[%] File Downloaded !\n",
            "\n",
            "[%] Downloading Image #15 from https://valeaston.typepad.com/.a/6a011168642488970c014e89a058ab970d-800wi\n",
            "[%] File Downloaded !\n",
            "\n",
            "[%] Downloading Image #16 from http://www.anniesannuals.com/signs/s/images/sunflower_white_lite_attribute_johnnys_selected_seeds.jpg\n",
            "[%] File Downloaded !\n",
            "\n",
            "[%] Downloading Image #17 from https://talltalesfromkansas.typepad.com/.a/6a01538dee917a970b01761704f0bc970c-800wi\n",
            "[%] File Downloaded !\n",
            "\n",
            "[%] Downloading Image #18 from https://i.pinimg.com/originals/b3/95/dd/b395dddac440c52de609e1d1b12044b9.jpg\n",
            "[%] File Downloaded !\n",
            "\n",
            "[%] Downloading Image #19 from https://i.pinimg.com/736x/42/cf/c7/42cfc769dc02aced51866694aa9bac9c--sunflowers-sunshine.jpg\n",
            "[%] File Downloaded !\n",
            "\n",
            "[%] Downloading Image #20 from https://i.pinimg.com/originals/9d/b2/67/9db26756c3de0663eabd13fcbaba7fa1.jpg\n",
            "[%] File Downloaded !\n",
            "\n",
            "[%] Downloading Image #21 from https://talltalesfromkansas.typepad.com/.a/6a01538dee917a970b01761704efa4970c-800wi\n",
            "[%] File Downloaded !\n",
            "\n",
            "[%] Downloading Image #22 from https://i.pinimg.com/originals/91/39/52/913952e8f81e8faa94481bda88e4dfba.jpg\n",
            "[%] File Downloaded !\n",
            "\n",
            "[%] Downloading Image #23 from https://i.pinimg.com/originals/41/e5/5b/41e55b93113d5463237e938c54093813.jpg\n",
            "[%] File Downloaded !\n",
            "\n",
            "[%] Downloading Image #24 from https://talltalesfromkansas.typepad.com/.a/6a01538dee917a970b017743eb2fea970d-800wi\n",
            "[%] File Downloaded !\n",
            "\n",
            "[%] Downloading Image #25 from https://pixfeeds.com/images/flowers/sunflowers/1280-506587098-beautiful-sunflower.jpg\n",
            "[%] File Downloaded !\n",
            "\n",
            "[%] Downloading Image #26 from https://i.pinimg.com/originals/75/ad/3f/75ad3f4512a7cfd54b272a2e6ee73c46.jpg\n",
            "[%] File Downloaded !\n",
            "\n",
            "[%] Downloading Image #27 from https://i.pinimg.com/originals/36/5a/bf/365abfdb1155a7079a42d5df06686d0b.jpg\n",
            "[%] File Downloaded !\n",
            "\n",
            "[%] Downloading Image #28 from https://64.media.tumblr.com/5b984975b98f5c7efbfbeaf9e7692a7a/tumblr_ovwukgAaOv1qdg24vo2_1280.jpg\n",
            "[Error]Invalid image, not saving https://64.media.tumblr.com/5b984975b98f5c7efbfbeaf9e7692a7a/tumblr_ovwukgAaOv1qdg24vo2_1280.jpg\n",
            "\n",
            "[!] Issue getting: https://64.media.tumblr.com/5b984975b98f5c7efbfbeaf9e7692a7a/tumblr_ovwukgAaOv1qdg24vo2_1280.jpg\n",
            "[!] Error:: Invalid image, not saving https://64.media.tumblr.com/5b984975b98f5c7efbfbeaf9e7692a7a/tumblr_ovwukgAaOv1qdg24vo2_1280.jpg\n",
            "\n",
            "[%] Downloading Image #28 from https://i.pinimg.com/originals/b3/10/ed/b310ed7afc2ac7b7191987df425f626d.jpg\n",
            "[%] File Downloaded !\n",
            "\n",
            "[%] Downloading Image #29 from https://i3.wp.com/cdn45.picsart.com/179065408000201.jpg?r1024x1024?resize=250,250\n",
            "[%] File Downloaded !\n",
            "\n",
            "\n",
            "\n",
            "[!!]Indexing page: 2\n",
            "\n",
            "[%] Indexed 35 Images on Page 2.\n",
            "\n",
            "===============================================\n",
            "\n",
            "[%] Downloading Image #30 from https://i.pinimg.com/originals/d6/65/0d/d6650dfbe09a374d2a6f4fdca2f8a9f6.jpg\n",
            "[%] File Downloaded !\n",
            "\n",
            "\n",
            "\n",
            "[%] Done. Downloaded 30 images.\n",
            "===============================================\n",
            "\n",
            "Please show your support here\n",
            "https://www.buymeacoffee.com/gurugaurav\n",
            "\n",
            "===============================================\n",
            "\n"
          ]
        }
      ]
    },
    {
      "cell_type": "code",
      "metadata": {
        "colab": {
          "base_uri": "https://localhost:8080/"
        },
        "id": "YrqLvSEp2jm3",
        "outputId": "837c18a0-19aa-4281-e421-bf3e707cfa00"
      },
      "source": [
        "from bing_image_downloader import downloader\n",
        "downloader.download(\"cats\",limit=30,output_dir=\"images\", adult_filter_off=True)"
      ],
      "execution_count": 4,
      "outputs": [
        {
          "output_type": "stream",
          "name": "stdout",
          "text": [
            "[%] Downloading Images to /content/images/cats\n",
            "\n",
            "\n",
            "[!!]Indexing page: 1\n",
            "\n",
            "[%] Indexed 30 Images on Page 1.\n",
            "\n",
            "===============================================\n",
            "\n",
            "[%] Downloading Image #1 from https://i.pinimg.com/originals/38/26/b2/3826b2d7b48aa9a7dfeed6d90c26fafe.jpg\n",
            "[%] File Downloaded !\n",
            "\n",
            "[%] Downloading Image #2 from https://i.redd.it/m5t154yptg741.jpg\n",
            "[%] File Downloaded !\n",
            "\n",
            "[%] Downloading Image #3 from https://i.pinimg.com/originals/94/09/ef/9409efca818ee2ff7e6839af1b08e2e1.jpg\n",
            "[%] File Downloaded !\n",
            "\n",
            "[%] Downloading Image #4 from https://i.pinimg.com/originals/5d/15/6f/5d156f0765a1a51f44f81cfe421e314d.jpg\n",
            "[%] File Downloaded !\n",
            "\n",
            "[%] Downloading Image #5 from https://4.bp.blogspot.com/-NaQi3tthgFU/UVcYATei2bI/AAAAAAAAQyo/ukI_G46_cbY/s1600/007+(2).JPG\n",
            "[%] File Downloaded !\n",
            "\n",
            "[%] Downloading Image #6 from https://i.pinimg.com/originals/9e/9d/11/9e9d11a2aefbbae748765e702f52c4c4.jpg\n",
            "[%] File Downloaded !\n",
            "\n",
            "[%] Downloading Image #7 from https://itsalovelylife.com/wp-content/uploads/2015/05/cat-photos-1400x700.jpg\n",
            "[%] File Downloaded !\n",
            "\n",
            "[%] Downloading Image #8 from https://i.pinimg.com/originals/d0/75/b7/d075b776c9ab95b88f5e1909598068b9.jpg\n",
            "[%] File Downloaded !\n",
            "\n",
            "[%] Downloading Image #9 from https://i1.wp.com/eurweb.com/wp-content/uploads/2015/01/cats_generic.jpg?resize=1000%2C600&amp;ssl=1\n",
            "[%] File Downloaded !\n",
            "\n",
            "[%] Downloading Image #10 from https://i.pinimg.com/originals/df/d8/a1/dfd8a1de773a434eae19b082ee0b609a.jpg\n",
            "[%] File Downloaded !\n",
            "\n",
            "[%] Downloading Image #11 from https://i.pinimg.com/originals/aa/26/e0/aa26e013ec5441a815be118df54db028.jpg\n",
            "[%] File Downloaded !\n",
            "\n",
            "[%] Downloading Image #12 from https://cutecatshq.com/wp-content/uploads/2018/11/Say-hello-to-my-beautiful-kitty-with-thumbs-1024x1022.jpg\n",
            "[%] File Downloaded !\n",
            "\n",
            "[%] Downloading Image #13 from https://i.pinimg.com/originals/d2/91/6b/d2916b44c6eee071e0f36e86939c859b.jpg\n",
            "[%] File Downloaded !\n",
            "\n",
            "[%] Downloading Image #14 from http://4.bp.blogspot.com/-p-jYv27m13A/UWrB6d-If3I/AAAAAAAARB8/MhVxHRfT_EY/s1600/016+(2).JPG\n",
            "[%] File Downloaded !\n",
            "\n",
            "[%] Downloading Image #15 from https://i.pinimg.com/originals/12/c8/4f/12c84fafbc0853a92326a312e0754452.jpg\n",
            "[%] File Downloaded !\n",
            "\n",
            "[%] Downloading Image #16 from https://i.pinimg.com/originals/06/cd/8c/06cd8c2c7efa1629654eaed820f5be18.jpg\n",
            "[%] File Downloaded !\n",
            "\n",
            "[%] Downloading Image #17 from https://i.pinimg.com/originals/6d/2d/02/6d2d02a6860d3f0ed30ea159f5c3cdf0.jpg\n",
            "[%] File Downloaded !\n",
            "\n",
            "[%] Downloading Image #18 from https://qph.fs.quoracdn.net/main-qimg-736b51e8a1dc53e361cae37cfa0e4ba9\n",
            "[%] File Downloaded !\n",
            "\n",
            "[%] Downloading Image #19 from https://usercontent2.hubstatic.com/4876441_f120.jpg\n",
            "[%] File Downloaded !\n",
            "\n",
            "[%] Downloading Image #20 from https://miaustore.com/uk/wp-content/uploads/sites/3/2018/04/sad-cat.jpg\n",
            "[%] File Downloaded !\n",
            "\n",
            "[%] Downloading Image #21 from https://i.redd.it/q6zm2yvh6pwy.jpg\n",
            "[%] File Downloaded !\n",
            "\n",
            "[%] Downloading Image #22 from https://klyker.com/wp-content/uploads/2014/10/hellish-cats-36.jpg\n",
            "[%] File Downloaded !\n",
            "\n",
            "[%] Downloading Image #23 from https://i.pinimg.com/originals/19/8a/4d/198a4d6dda3dab5794ea61c568be0633.jpg\n",
            "[%] File Downloaded !\n",
            "\n",
            "[%] Downloading Image #24 from https://i.pinimg.com/originals/61/1b/6f/611b6fa55ed074b3f612fcfec0b1987f.jpg\n",
            "[%] File Downloaded !\n",
            "\n",
            "[%] Downloading Image #25 from https://preview.redd.it/t9kjtxvgwzj11.jpg?auto=webp&amp;s=32d25b350bd9cb73a791ba804336a12bcd34337c\n",
            "[!] Issue getting: https://preview.redd.it/t9kjtxvgwzj11.jpg?auto=webp&amp;s=32d25b350bd9cb73a791ba804336a12bcd34337c\n",
            "[!] Error:: HTTP Error 403: Forbidden\n",
            "[%] Downloading Image #25 from https://i.pinimg.com/originals/f4/85/17/f48517f8597e254074e9edf8c43f73b1.jpg\n",
            "[%] File Downloaded !\n",
            "\n",
            "[%] Downloading Image #26 from https://www.landofcats.net/images/2016/07/Tiffanys-cat-story-Land-of-Cats.jpg\n",
            "[%] File Downloaded !\n",
            "\n",
            "[%] Downloading Image #27 from https://blog.wholesomeculture.com/wp-content/uploads/2019/10/kevin-ianeselli-f4Rqde3qULw-unsplash-768x1024.jpg\n",
            "[%] File Downloaded !\n",
            "\n",
            "[%] Downloading Image #28 from https://readlarrypowell.typepad.com/.a/6a00d8341c4e0853ef0263ec24a0d5200c-600wi\n",
            "[%] File Downloaded !\n",
            "\n",
            "[%] Downloading Image #29 from https://1.bp.blogspot.com/-GQFcQQDHFHU/XlNLTWFkTjI/AAAAAAAAAE4/5W7YGU3E85Mjn6AoolcszAYpDr8_BM4nACLcBGAsYHQ/s1600/5e534b20bef0f.png\n",
            "[%] File Downloaded !\n",
            "\n",
            "\n",
            "\n",
            "[!!]Indexing page: 2\n",
            "\n",
            "[%] Indexed 35 Images on Page 2.\n",
            "\n",
            "===============================================\n",
            "\n",
            "[%] Downloading Image #30 from https://i.pinimg.com/originals/38/26/b2/3826b2d7b48aa9a7dfeed6d90c26fafe.jpg\n",
            "[%] File Downloaded !\n",
            "\n",
            "\n",
            "\n",
            "[%] Done. Downloaded 30 images.\n",
            "===============================================\n",
            "\n",
            "Please show your support here\n",
            "https://www.buymeacoffee.com/gurugaurav\n",
            "\n",
            "===============================================\n",
            "\n"
          ]
        }
      ]
    },
    {
      "cell_type": "code",
      "metadata": {
        "colab": {
          "base_uri": "https://localhost:8080/"
        },
        "id": "2bliOJTn2t9Q",
        "outputId": "d68cf24c-2793-4b3b-eb20-88fb01ca5a8d"
      },
      "source": [
        "from bing_image_downloader import downloader\n",
        "downloader.download(\"roses\",limit=20,output_dir=\"images\", adult_filter_off=True)"
      ],
      "execution_count": 5,
      "outputs": [
        {
          "output_type": "stream",
          "name": "stdout",
          "text": [
            "[%] Downloading Images to /content/images/roses\n",
            "\n",
            "\n",
            "[!!]Indexing page: 1\n",
            "\n",
            "[%] Indexed 20 Images on Page 1.\n",
            "\n",
            "===============================================\n",
            "\n",
            "[%] Downloading Image #1 from https://res.cloudinary.com/bloomnation/c_pad,d_vendor:global:catalog:product:image.png,f_auto,fl_preserve_transparency,q_auto/v1550550570/vendor/2961/catalog/product/2/0/20150124123713_file_54c391f9051a6.jpg\n",
            "[%] File Downloaded !\n",
            "\n",
            "[%] Downloading Image #2 from https://altmanplants.com/wp-content/uploads/True-Gratitude-1.jpg\n",
            "[%] File Downloaded !\n",
            "\n",
            "[%] Downloading Image #3 from https://i.pinimg.com/originals/eb/3c/e5/eb3ce5ed74d42f0e2e5fd24ab7ebf97b.jpg\n",
            "[%] File Downloaded !\n",
            "\n",
            "[%] Downloading Image #4 from http://3.bp.blogspot.com/-fpzbQpBpYTg/T3VACz6ZP3I/AAAAAAAAFUo/eTzABCYjYe4/s1600/DSC00146.JPG\n",
            "[%] File Downloaded !\n",
            "\n",
            "[%] Downloading Image #5 from https://i.pinimg.com/originals/35/fe/ed/35feed534a62d8ca6546523e0dc8c5a4.jpg\n",
            "[%] File Downloaded !\n",
            "\n",
            "[%] Downloading Image #6 from https://i.pinimg.com/originals/95/10/4b/95104b396379d0b5a9cf001b1b94bece.jpg\n",
            "[%] File Downloaded !\n",
            "\n",
            "[%] Downloading Image #7 from https://i.pinimg.com/originals/0b/f3/79/0bf37917c8193074b6916ebd2413d769.jpg\n",
            "[%] File Downloaded !\n",
            "\n",
            "[%] Downloading Image #8 from http://eco18.com/wp-content/uploads/2016/06/AdobeStock_98287360.jpeg\n",
            "[%] File Downloaded !\n",
            "\n",
            "[%] Downloading Image #9 from https://i.pinimg.com/originals/43/75/5c/43755cc23d594b0fa00fed74f6d30839.jpg\n",
            "[%] File Downloaded !\n",
            "\n",
            "[%] Downloading Image #10 from http://natureserve.org/sites/default/files/kelly_marcum_flickr_pricklyrose.jpg\n",
            "[%] File Downloaded !\n",
            "\n",
            "[%] Downloading Image #11 from https://garden.org/pics/2019-06-03/MGKing/220516.jpg\n",
            "[%] File Downloaded !\n",
            "\n",
            "[%] Downloading Image #12 from https://i.pinimg.com/originals/2b/bc/a3/2bbca35e2914a18cb3a432aa93840bbb.jpg\n",
            "[%] File Downloaded !\n",
            "\n",
            "[%] Downloading Image #13 from https://res.cloudinary.com/bloomnation/c_pad,d_vendor:global:catalog:product:image.png,f_auto,fl_preserve_transparency,q_auto/v1550984932/vendor/3939/catalog/product/2/0/20190128072704_file_5c4f5788c8a34.jpg\n",
            "[%] File Downloaded !\n",
            "\n",
            "[%] Downloading Image #14 from https://i.pinimg.com/originals/3d/2a/6e/3d2a6e31ed515cbf2d0bdb8c1b582811.jpg\n",
            "[%] File Downloaded !\n",
            "\n",
            "[%] Downloading Image #15 from https://i.pinimg.com/originals/9c/b4/da/9cb4da2ee8d96f6b782c1371ced12840.jpg\n",
            "[%] File Downloaded !\n",
            "\n",
            "[%] Downloading Image #16 from https://i.pinimg.com/originals/63/2e/1e/632e1e35a49f83c0e0e8a8d0d160c3fb.jpg\n",
            "[%] File Downloaded !\n",
            "\n",
            "[%] Downloading Image #17 from https://res.cloudinary.com/bloomnation/c_pad,d_vendor:global:catalog:product:image.png,f_auto,fl_preserve_transparency,q_auto/v1579502899/vendor/1519/catalog/product/2/0/20180128065459_file_5a6d73c35f1f2.jpg\n",
            "[%] File Downloaded !\n",
            "\n",
            "[%] Downloading Image #18 from https://asset.bloomnation.com/c_pad,d_vendor:global:catalog:product:image.png,f_auto,fl_preserve_transparency,q_auto/v1602472437/vendor/6745/catalog/product/2/0/20201011081326_file_5f8367667795a_5f8367826a8da.jpg\n",
            "[%] File Downloaded !\n",
            "\n",
            "[%] Downloading Image #19 from https://i.pinimg.com/originals/f9/f9/38/f9f938ca5804689a150b662b382a0ee8.jpg\n",
            "[%] File Downloaded !\n",
            "\n",
            "[%] Downloading Image #20 from https://i.pinimg.com/originals/35/4a/ed/354aed9e9a761e2115f7597672b3cad2.jpg\n",
            "[%] File Downloaded !\n",
            "\n",
            "\n",
            "\n",
            "[%] Done. Downloaded 20 images.\n",
            "===============================================\n",
            "\n",
            "Please show your support here\n",
            "https://www.buymeacoffee.com/gurugaurav\n",
            "\n",
            "===============================================\n",
            "\n"
          ]
        }
      ]
    },
    {
      "cell_type": "code",
      "metadata": {
        "colab": {
          "base_uri": "https://localhost:8080/"
        },
        "id": "a49DSDfK21DB",
        "outputId": "5f6ddc46-25a1-49af-b141-195f1ccb8f34"
      },
      "source": [
        "from bing_image_downloader import downloader\n",
        "downloader.download(\"dogs\",limit=30,output_dir=\"images\", adult_filter_off=True)"
      ],
      "execution_count": 6,
      "outputs": [
        {
          "output_type": "stream",
          "name": "stdout",
          "text": [
            "[%] Downloading Images to /content/images/dogs\n",
            "\n",
            "\n",
            "[!!]Indexing page: 1\n",
            "\n",
            "[%] Indexed 30 Images on Page 1.\n",
            "\n",
            "===============================================\n",
            "\n",
            "[%] Downloading Image #1 from https://i.pinimg.com/originals/ef/14/32/ef1432cf6e4e96b0aa5dbb2662db797e.jpg\n",
            "[%] File Downloaded !\n",
            "\n",
            "[%] Downloading Image #2 from https://www.kewlquiz.com/wp-content/uploads/2021/07/Popular-dog-breeds-in-india-1200x1005-1.jpg\n",
            "[%] File Downloaded !\n",
            "\n",
            "[%] Downloading Image #3 from https://www.grunge.com/img/uploads/2016/12/false-facts-about-dogs-you-always-thought-were-true.jpg\n",
            "[%] File Downloaded !\n",
            "\n",
            "[%] Downloading Image #4 from https://i.pinimg.com/originals/a0/ac/21/a0ac21dd9b4dcb784c2a9f9bce111b86.jpg\n",
            "[%] File Downloaded !\n",
            "\n",
            "[%] Downloading Image #5 from https://i.pinimg.com/originals/15/88/16/158816f3dbae5f6ae140f7b15dc1ac8b.jpg\n",
            "[%] File Downloaded !\n",
            "\n",
            "[%] Downloading Image #6 from https://i.pinimg.com/originals/51/5d/52/515d52a1aa3aed9c5efaa868221d7559.jpg\n",
            "[%] File Downloaded !\n",
            "\n",
            "[%] Downloading Image #7 from https://i0.wp.com/trueworkingdogs.com/wp-content/uploads/Rosebud20170603_161039.jpg\n",
            "[%] File Downloaded !\n",
            "\n",
            "[%] Downloading Image #8 from https://trueworkingdogs.com/wp-content/uploads/20180422_145942.jpg\n",
            "[%] File Downloaded !\n",
            "\n",
            "[%] Downloading Image #9 from https://i.pinimg.com/originals/5b/cb/0d/5bcb0db39d4e96fee105e47aac7461d4.png\n",
            "[%] File Downloaded !\n",
            "\n",
            "[%] Downloading Image #10 from http://truepetcare.com/wp-content/uploads/2017/08/Depositphotos_85020820_original.jpg\n",
            "[%] File Downloaded !\n",
            "\n",
            "[%] Downloading Image #11 from https://trueworkingdogs.com/wp-content/uploads/20180422_152214.jpg\n",
            "[%] File Downloaded !\n",
            "\n",
            "[%] Downloading Image #12 from https://i.pinimg.com/originals/30/29/bf/3029bf77283796e996d5f2bdeaaf5ef7.jpg\n",
            "[%] File Downloaded !\n",
            "\n",
            "[%] Downloading Image #13 from https://trueworkingdogs.com/wp-content/uploads/20180422_152202.jpg\n",
            "[%] File Downloaded !\n",
            "\n",
            "[%] Downloading Image #14 from https://trueworkingdogs.com/wp-content/uploads/20170312_104955.jpg\n",
            "[%] File Downloaded !\n",
            "\n",
            "[%] Downloading Image #15 from https://trueworkingdogs.com/wp-content/uploads/20180422_151149.jpg\n",
            "[%] File Downloaded !\n",
            "\n",
            "[%] Downloading Image #16 from https://i.pinimg.com/originals/dc/bc/d9/dcbcd967e5dd9cd290b789f1a51a9c73.jpg\n",
            "[%] File Downloaded !\n",
            "\n",
            "[%] Downloading Image #17 from https://www.rover.com/blog/wp-content/uploads/2016/03/DSC_0706.jpg\n",
            "[%] File Downloaded !\n",
            "\n",
            "[%] Downloading Image #18 from https://www.independent.ie/regionals/newrossstandard/lifestyle/8afeb/34414483.ece/AUTOCROP/h800/2016-02-02_wex_16548707_I1.JPG\n",
            "[%] File Downloaded !\n",
            "\n",
            "[%] Downloading Image #19 from https://img2.grunge.com/img/gallery/false-facts-about-dogs-you-always-thought-were-true/dogs-eat-grass-because-they-have-an-upset-stomach.jpg\n",
            "[%] File Downloaded !\n",
            "\n",
            "[%] Downloading Image #20 from https://3.bp.blogspot.com/-F3OzMER9NqA/UkSyau9tNpI/AAAAAAAAL_s/fX3g2vEbeSs/s1600/oatmeal1.jpg\n",
            "[%] File Downloaded !\n",
            "\n",
            "[%] Downloading Image #21 from https://4.bp.blogspot.com/-kEJNzYHt5tQ/UkSyPX7Ku5I/AAAAAAAAL_U/JewBQ9uEas8/s1600/551078a1.jpg\n",
            "[%] File Downloaded !\n",
            "\n",
            "[%] Downloading Image #22 from https://trueworkingdogs.com/wp-content/uploads/20170312_103804.jpg\n",
            "[%] File Downloaded !\n",
            "\n",
            "[%] Downloading Image #23 from https://4.bp.blogspot.com/-5Hct8Q_LAsw/UkSycXIdwRI/AAAAAAAAL_4/iWe1_d2JWqg/s1600/oatmeal2.jpg\n",
            "[%] File Downloaded !\n",
            "\n",
            "[%] Downloading Image #24 from https://trueworkingdogs.com/wp-content/uploads/20180422_152127.jpg\n",
            "[%] File Downloaded !\n",
            "\n",
            "[%] Downloading Image #25 from https://trueworkingdogs.com/wp-content/uploads/20180422_152057.jpg\n",
            "[%] File Downloaded !\n",
            "\n",
            "[%] Downloading Image #26 from https://trueworkingdogs.com/wp-content/uploads/20180422_150142.jpg\n",
            "[%] File Downloaded !\n",
            "\n",
            "[%] Downloading Image #27 from https://i.pinimg.com/736x/25/58/b4/2558b43bb2728485de4b22c1e675246f--juventus-weimaraner.jpg\n",
            "[%] File Downloaded !\n",
            "\n",
            "[%] Downloading Image #28 from https://playfuldogsrule.com/wp-content/uploads/2018/10/e833b10e28f0003ecd0b4401ee494194e66ae3d01ab8164495f2c279_1920-1024x680.jpg\n",
            "[%] File Downloaded !\n",
            "\n",
            "[%] Downloading Image #29 from https://i.pinimg.com/originals/71/96/5a/71965a1de8a8cfa511405d69e4a22a02.jpg\n",
            "[%] File Downloaded !\n",
            "\n",
            "[%] Downloading Image #30 from https://i.pinimg.com/originals/f6/ed/93/f6ed93428da9a0fde9154dce09485727.jpg\n",
            "[%] File Downloaded !\n",
            "\n",
            "\n",
            "\n",
            "[%] Done. Downloaded 30 images.\n",
            "===============================================\n",
            "\n",
            "Please show your support here\n",
            "https://www.buymeacoffee.com/gurugaurav\n",
            "\n",
            "===============================================\n",
            "\n"
          ]
        }
      ]
    },
    {
      "cell_type": "code",
      "metadata": {
        "colab": {
          "base_uri": "https://localhost:8080/"
        },
        "id": "HRZ2kAN12_T7",
        "outputId": "930abcc5-53a5-48a8-81ee-573f6763f8fc"
      },
      "source": [
        "from bing_image_downloader import downloader\n",
        "downloader.download(\"lotus\",limit=30,output_dir=\"images\", adult_filter_off=True)"
      ],
      "execution_count": 7,
      "outputs": [
        {
          "output_type": "stream",
          "name": "stdout",
          "text": [
            "[%] Downloading Images to /content/images/lotus\n",
            "\n",
            "\n",
            "[!!]Indexing page: 1\n",
            "\n",
            "[%] Indexed 30 Images on Page 1.\n",
            "\n",
            "===============================================\n",
            "\n",
            "[%] Downloading Image #1 from https://3.bp.blogspot.com/-3edIMDAj__c/Wt311cyhz5I/AAAAAAAABIw/fkQwa8hU6FQFk0ZhYHNl-OlCk-Qpcnv-gCLcBGAs/s1600/20180125_143431.jpg\n",
            "[%] File Downloaded !\n",
            "\n",
            "[%] Downloading Image #2 from https://kcp-wpengine.netdna-ssl.com/wp-content/uploads/2014/03/lotus2.jpg\n",
            "[%] File Downloaded !\n",
            "\n",
            "[%] Downloading Image #3 from https://i.pinimg.com/originals/fa/bc/22/fabc229f61135159396373e7f09d1aa9.jpg\n",
            "[%] File Downloaded !\n",
            "\n",
            "[%] Downloading Image #4 from https://www.kcpinternational.com/wp-content/uploads/2014/04/Lotus-Flower.jpg\n",
            "[Error]Invalid image, not saving https://www.kcpinternational.com/wp-content/uploads/2014/04/Lotus-Flower.jpg\n",
            "\n",
            "[!] Issue getting: https://www.kcpinternational.com/wp-content/uploads/2014/04/Lotus-Flower.jpg\n",
            "[!] Error:: Invalid image, not saving https://www.kcpinternational.com/wp-content/uploads/2014/04/Lotus-Flower.jpg\n",
            "\n",
            "[%] Downloading Image #4 from https://img.tvc-mall.com/uploads/details/TP10310310759A-5.jpg\n",
            "[%] File Downloaded !\n",
            "\n",
            "[%] Downloading Image #5 from https://thumbs.dreamstime.com/b/pink-lotus-flower-supreme-lotus-considered-to-be-true-lotus-buddha-pink-lotus-flower-supreme-167098041.jpg\n",
            "[%] File Downloaded !\n",
            "\n",
            "[%] Downloading Image #6 from https://www.vivasanint.com/product/image/large/z 367_экстракт_цветков_лотоса.jpg\n",
            "[!] Issue getting: https://www.vivasanint.com/product/image/large/z 367_экстракт_цветков_лотоса.jpg\n",
            "[!] Error:: URL can't contain control characters. '/product/image/large/z 367_экстракт_цветков_лотоса.jpg' (found at least ' ')\n",
            "[%] Downloading Image #6 from https://mulkernlandscaping.com/wp-content/uploads/2014/09/IMG_41051.jpg\n",
            "[%] File Downloaded !\n",
            "\n",
            "[%] Downloading Image #7 from https://i.pinimg.com/originals/94/bb/7f/94bb7f339644a6b9928ad805e99a3677.jpg\n",
            "[%] File Downloaded !\n",
            "\n",
            "[%] Downloading Image #8 from https://i.pinimg.com/originals/8b/12/92/8b12929696450d02e06685212ea87b31.jpg\n",
            "[%] File Downloaded !\n",
            "\n",
            "[%] Downloading Image #9 from https://cdn.shopify.com/s/files/1/1725/7713/products/Red_Jiaxing_3430.jpg?v=1556976562\n",
            "[%] File Downloaded !\n",
            "\n",
            "[%] Downloading Image #10 from http://mastermindcontent.co.uk/wp-content/uploads/2016/01/purplelotusflower-1024x768.jpg\n",
            "[%] File Downloaded !\n",
            "\n",
            "[%] Downloading Image #11 from https://everydaypower.com/wp-content/uploads/2021/01/45-Lotus-Flower-Quotes-About-the-Beautiful-and-Symbolic-Flower.jpg\n",
            "[%] File Downloaded !\n",
            "\n",
            "[%] Downloading Image #12 from https://i.pinimg.com/originals/98/f2/29/98f2292154b27ea9d1fc5dc2fbd4c6ac.jpg\n",
            "[%] File Downloaded !\n",
            "\n",
            "[%] Downloading Image #13 from https://howtodoright.com/wp-content/uploads/2019/07/16e1dd4f730136407d8203cb358f6a14.jpg\n",
            "[%] File Downloaded !\n",
            "\n",
            "[%] Downloading Image #14 from https://www.plantsguru.com/image/cache/data/Flowering Plants/Lillies/plants-guru-lily-and-bulbous-plants-lotus-white-800x800.jpg\n",
            "[!] Issue getting: https://www.plantsguru.com/image/cache/data/Flowering Plants/Lillies/plants-guru-lily-and-bulbous-plants-lotus-white-800x800.jpg\n",
            "[!] Error:: URL can't contain control characters. '/image/cache/data/Flowering Plants/Lillies/plants-guru-lily-and-bulbous-plants-lotus-white-800x800.jpg' (found at least ' ')\n",
            "[%] Downloading Image #14 from https://thumbs.dreamstime.com/z/pink-lotus-flower-supreme-considered-to-be-true-buddha-167098076.jpg\n",
            "[%] File Downloaded !\n",
            "\n",
            "[%] Downloading Image #15 from https://www.plantsguru.com/image/cache/data/Flowering Plants/Lillies/plants-guru-lily-and-bulbous-plants-lotus-pink-600x600.jpg\n",
            "[!] Issue getting: https://www.plantsguru.com/image/cache/data/Flowering Plants/Lillies/plants-guru-lily-and-bulbous-plants-lotus-pink-600x600.jpg\n",
            "[!] Error:: URL can't contain control characters. '/image/cache/data/Flowering Plants/Lillies/plants-guru-lily-and-bulbous-plants-lotus-pink-600x600.jpg' (found at least ' ')\n",
            "[%] Downloading Image #15 from https://i.pinimg.com/originals/4a/8f/af/4a8faf654b23cd3c02056574ce575640.jpg\n",
            "[%] File Downloaded !\n",
            "\n",
            "[%] Downloading Image #16 from https://thumbs.dreamstime.com/b/white-lotus-flower-color-lotus-known-to-symbolize-bodhi--represents-state-mental-purity-white-lotus-flower-167098081.jpg\n",
            "[%] File Downloaded !\n",
            "\n",
            "[%] Downloading Image #17 from http://il6.picdn.net/shutterstock/videos/3829064/thumb/1.jpg\n",
            "[%] File Downloaded !\n",
            "\n",
            "[%] Downloading Image #18 from https://i.etsystatic.com/24585107/r/il/962dca/2650244621/il_794xN.2650244621_ree4.jpg\n",
            "[%] File Downloaded !\n",
            "\n",
            "[%] Downloading Image #19 from https://thumbs.dreamstime.com/z/pink-lotus-flower-supreme-lotus-considered-to-be-true-lotus-buddha-pink-lotus-flower-supreme-167098066.jpg\n",
            "[%] File Downloaded !\n",
            "\n",
            "[%] Downloading Image #20 from https://sunlandwatergardens.com/wp-content/uploads/2013/05/RedLotusLotus-for-your-pond.jpg\n",
            "[%] File Downloaded !\n",
            "\n",
            "[%] Downloading Image #21 from https://i.pinimg.com/originals/95/95/8e/95958eaa7b8a43850a7f908c39a585a9.jpg\n",
            "[%] File Downloaded !\n",
            "\n",
            "[%] Downloading Image #22 from https://www.mastermindcontent.co.uk/wp-content/uploads/2020/04/lotus-flower.jpg\n",
            "[%] File Downloaded !\n",
            "\n",
            "[%] Downloading Image #23 from https://i.pinimg.com/originals/f8/31/b5/f831b571cd02f4a6e00baf7f54f88cf9.jpg\n",
            "[%] File Downloaded !\n",
            "\n",
            "[%] Downloading Image #24 from http://1.bp.blogspot.com/-ZYzpTy__pxw/VSdq-5qTsyI/AAAAAAAAGY8/DyXf5XnIoeU/s1600/016.JPG\n",
            "[%] File Downloaded !\n",
            "\n",
            "[%] Downloading Image #25 from https://img.webnovel.com/bookcover/13409145306771005/600/600.jpg?coverUpdateTime=1554133247954&amp;imageMogr2/quality/40\n",
            "[%] File Downloaded !\n",
            "\n",
            "[%] Downloading Image #26 from https://gospnews.com/wp-content/uploads/2021/04/white-lotus.jpeg\n",
            "[%] File Downloaded !\n",
            "\n",
            "\n",
            "\n",
            "[!!]Indexing page: 2\n",
            "\n",
            "[%] Indexed 35 Images on Page 2.\n",
            "\n",
            "===============================================\n",
            "\n",
            "[%] Downloading Image #27 from https://3.bp.blogspot.com/-3edIMDAj__c/Wt311cyhz5I/AAAAAAAABIw/fkQwa8hU6FQFk0ZhYHNl-OlCk-Qpcnv-gCLcBGAs/s1600/20180125_143431.jpg\n",
            "[%] File Downloaded !\n",
            "\n",
            "[%] Downloading Image #28 from https://kcp-wpengine.netdna-ssl.com/wp-content/uploads/2014/03/lotus2.jpg\n",
            "[%] File Downloaded !\n",
            "\n",
            "[%] Downloading Image #29 from https://i.pinimg.com/originals/fa/bc/22/fabc229f61135159396373e7f09d1aa9.jpg\n",
            "[%] File Downloaded !\n",
            "\n",
            "[%] Downloading Image #30 from https://www.kcpinternational.com/wp-content/uploads/2014/04/Lotus-Flower.jpg\n",
            "[Error]Invalid image, not saving https://www.kcpinternational.com/wp-content/uploads/2014/04/Lotus-Flower.jpg\n",
            "\n",
            "[!] Issue getting: https://www.kcpinternational.com/wp-content/uploads/2014/04/Lotus-Flower.jpg\n",
            "[!] Error:: Invalid image, not saving https://www.kcpinternational.com/wp-content/uploads/2014/04/Lotus-Flower.jpg\n",
            "\n",
            "[%] Downloading Image #30 from https://img.tvc-mall.com/uploads/details/TP10310310759A-5.jpg\n",
            "[%] File Downloaded !\n",
            "\n",
            "\n",
            "\n",
            "[%] Done. Downloaded 30 images.\n",
            "===============================================\n",
            "\n",
            "Please show your support here\n",
            "https://www.buymeacoffee.com/gurugaurav\n",
            "\n",
            "===============================================\n",
            "\n"
          ]
        }
      ]
    },
    {
      "cell_type": "code",
      "metadata": {
        "colab": {
          "base_uri": "https://localhost:8080/"
        },
        "id": "0US9UVLg3MJq",
        "outputId": "f8335517-6620-43bd-e880-ce792c734f01"
      },
      "source": [
        "from bing_image_downloader import downloader\n",
        "downloader.download(\"tiger\",limit=30,output_dir=\"images\", adult_filter_off=True)"
      ],
      "execution_count": 8,
      "outputs": [
        {
          "output_type": "stream",
          "name": "stdout",
          "text": [
            "[%] Downloading Images to /content/images/tiger\n",
            "\n",
            "\n",
            "[!!]Indexing page: 1\n",
            "\n",
            "[%] Indexed 30 Images on Page 1.\n",
            "\n",
            "===============================================\n",
            "\n",
            "[%] Downloading Image #1 from https://3.bp.blogspot.com/-mcgotL3ybfA/Tmnibi1hO4I/AAAAAAAABlo/_LLkUuuitbE/s1600/Bengal_Tiger_Miami_MetroZoo.jpg\n",
            "[%] File Downloaded !\n",
            "\n",
            "[%] Downloading Image #2 from http://4.bp.blogspot.com/-oiKlIXjINHg/TmnibfU_u_I/AAAAAAAABlg/RPOlTl9eN7Q/s1600/bengal%2Btiger3690.jpg\n",
            "[%] File Downloaded !\n",
            "\n",
            "[%] Downloading Image #3 from https://i.ytimg.com/vi/OQWHFmgH4pI/maxresdefault.jpg\n",
            "[%] File Downloaded !\n",
            "\n",
            "[%] Downloading Image #4 from https://3.bp.blogspot.com/_W90V87w3sr8/TMbyiUdtilI/AAAAAAAAAEI/baQO1CTsACc/s1600/bengal1.jpg\n",
            "[%] File Downloaded !\n",
            "\n",
            "[%] Downloading Image #5 from https://i.natgeofe.com/n/76b1de5f-fe8d-4ca9-a998-e39d97a814e7/ngc-4zXmklsbE56_FtzOFx_k6H2s0N6YB1le.jpg?w=1200\n",
            "[%] File Downloaded !\n",
            "\n",
            "[%] Downloading Image #6 from https://i.ytimg.com/vi/24lHKrK0cCI/maxresdefault.jpg\n",
            "[%] File Downloaded !\n",
            "\n",
            "[%] Downloading Image #7 from https://i.pinimg.com/originals/09/f8/31/09f83122097959a10d0ea12abb49232e.jpg\n",
            "[%] File Downloaded !\n",
            "\n",
            "[%] Downloading Image #8 from http://media.npr.org/assets/news/2010/09/10/Tiger-4e63dcd32bdf399816d6102bb1b490e5949b6edb-s1100-c15.jpg\n",
            "[%] File Downloaded !\n",
            "\n",
            "[%] Downloading Image #9 from http://s24990.pcdn.co/wp-content/uploads/2017/03/siberian-tiger-1209680_960_720.jpg\n",
            "[%] File Downloaded !\n",
            "\n",
            "[%] Downloading Image #10 from https://4.bp.blogspot.com/-swTSy3-PsUI/UDC-RGbxzkI/AAAAAAAABv4/fiGjk7BC0RQ/s1600/South-China-Tiger-3.jpg\n",
            "[%] File Downloaded !\n",
            "\n",
            "[%] Downloading Image #11 from https://lh4.googleusercontent.com/-iiZkPjhH_QU/TW4z-9JqVdI/AAAAAAAABUU/L6jmvUqf1JU/s1600/indochinese-tiger.jpg\n",
            "[%] File Downloaded !\n",
            "\n",
            "[%] Downloading Image #12 from https://photos.prnewswire.com/prnfull/20160725/392513?max=950\n",
            "[%] File Downloaded !\n",
            "\n",
            "[%] Downloading Image #13 from http://www.letstravelmag.com/wp-content/uploads/2016/07/tiger.jpg\n",
            "[%] File Downloaded !\n",
            "\n",
            "[%] Downloading Image #14 from https://2.bp.blogspot.com/_1KL1pyq6D-w/TAeVsfLH-YI/AAAAAAAACzc/WbidOzG196I/s1600/33-WEBSITE-125.jpg\n",
            "[%] File Downloaded !\n",
            "\n",
            "[%] Downloading Image #15 from http://s24990.pcdn.co/wp-content/uploads/2016/04/WWF.jpg\n",
            "[%] File Downloaded !\n",
            "\n",
            "[%] Downloading Image #16 from https://img.particlenews.com/img/id/3wfy1C_0WwzMjMz00?type=thumbnail_1024x576\n",
            "[%] File Downloaded !\n",
            "\n",
            "[%] Downloading Image #17 from http://4.bp.blogspot.com/-OoJvEYlI3gQ/TifC73k_XsI/AAAAAAAABbw/DuW0k0toNnc/s400/ranthamboretiger-l.jpg\n",
            "[%] File Downloaded !\n",
            "\n",
            "[%] Downloading Image #18 from https://s3.ap-southeast-1.amazonaws.com/images.deccanchronicle.com/dc-Cover-5mtncr1gcc1gld5epeb7jfofq4-20170910061036.Medi.jpeg\n",
            "[%] File Downloaded !\n",
            "\n",
            "[%] Downloading Image #19 from https://i.pinimg.com/originals/26/91/80/269180050eb9fa96043c7a04cadeea88.jpg\n",
            "[%] File Downloaded !\n",
            "\n",
            "[%] Downloading Image #20 from https://images.hindustantimes.com/rf/image_size_640x362/HT/p2/2016/06/20/Pictures/photo-received-caption-provided-picture-moonmoon-tiger_5c32d734-36bf-11e6-a032-be579840a028.jpg\n",
            "[%] File Downloaded !\n",
            "\n",
            "[%] Downloading Image #21 from https://1.bp.blogspot.com/-6ke3HyEZj_Y/Tf7Pf-87AFI/AAAAAAAAAMY/fWJaPHbTQ9o/s400/Sumatran+Tiger+Facts3.jpg\n",
            "[%] File Downloaded !\n",
            "\n",
            "[%] Downloading Image #22 from https://www.earthtouchnews.com/media/838233/screen-shot-2015-01-21-at-32120-pm.png\n",
            "[%] File Downloaded !\n",
            "\n",
            "[%] Downloading Image #23 from https://3.bp.blogspot.com/-wJ0Qo4TNICY/Tf7NbxJ2-FI/AAAAAAAAAMQ/U70oXUBl1vQ/s1600/Sumatran+Tiger+facts2.jpg\n",
            "[%] File Downloaded !\n",
            "\n",
            "[%] Downloading Image #24 from http://farm1.static.flickr.com/199/519410023_8ca0724254_b.jpg\n",
            "[%] File Downloaded !\n",
            "\n",
            "[%] Downloading Image #25 from https://www.snopes.com/tachyon/2020/04/ap_tiger.jpg\n",
            "[%] File Downloaded !\n",
            "\n",
            "[%] Downloading Image #26 from http://bigcatrescue.org/wp-content/uploads/2020/05/lion-white-tiger-true-love-scaled.jpg\n",
            "[%] File Downloaded !\n",
            "\n",
            "[%] Downloading Image #27 from https://s24990.pcdn.co/wp-content/uploads/2016/08/Baby-Tiger.jpg\n",
            "[%] File Downloaded !\n",
            "\n",
            "[%] Downloading Image #28 from https://s1.reutersmedia.net/resources/r/?m=02&amp;d=20120524&amp;t=2&amp;i=611075524&amp;w=1200&amp;r=ALNE84N0X3V00\n",
            "[!] Issue getting: https://s1.reutersmedia.net/resources/r/?m=02&amp;d=20120524&amp;t=2&amp;i=611075524&amp;w=1200&amp;r=ALNE84N0X3V00\n",
            "[!] Error:: HTTP Error 404: Not Found\n",
            "[%] Downloading Image #28 from https://3.bp.blogspot.com/-um3qcu1_3VM/Tf7OE_cPwAI/AAAAAAAAAMU/daEbjr1wZlE/s400/images33.jpg\n",
            "[%] File Downloaded !\n",
            "\n",
            "[%] Downloading Image #29 from https://cdn.vox-cdn.com/thumbor/RIRQB29TKx2wxU-oYW3F8x0UQns=/0x0:2840x1893/1200x0/filters:focal(0x0:2840x1893):no_upscale()/cdn.vox-cdn.com/uploads/chorus_asset/file/19853720/121118_0972_JEPA_R.jpg\n",
            "[%] File Downloaded !\n",
            "\n",
            "\n",
            "\n",
            "[!!]Indexing page: 2\n",
            "\n",
            "[%] Indexed 35 Images on Page 2.\n",
            "\n",
            "===============================================\n",
            "\n",
            "[%] Downloading Image #30 from https://3.bp.blogspot.com/-mcgotL3ybfA/Tmnibi1hO4I/AAAAAAAABlo/_LLkUuuitbE/s1600/Bengal_Tiger_Miami_MetroZoo.jpg\n",
            "[%] File Downloaded !\n",
            "\n",
            "\n",
            "\n",
            "[%] Done. Downloaded 30 images.\n",
            "===============================================\n",
            "\n",
            "Please show your support here\n",
            "https://www.buymeacoffee.com/gurugaurav\n",
            "\n",
            "===============================================\n",
            "\n"
          ]
        }
      ]
    },
    {
      "cell_type": "code",
      "metadata": {
        "colab": {
          "base_uri": "https://localhost:8080/"
        },
        "id": "xy39xVFA3ekb",
        "outputId": "bbbafd97-cbf3-41ec-8ac7-ab1fb53e39e9"
      },
      "source": [
        "from bing_image_downloader import downloader\n",
        "downloader.download(\"lion\",limit=30,output_dir=\"images\", adult_filter_off=True)"
      ],
      "execution_count": 9,
      "outputs": [
        {
          "output_type": "stream",
          "name": "stdout",
          "text": [
            "[%] Downloading Images to /content/images/lion\n",
            "\n",
            "\n",
            "[!!]Indexing page: 1\n",
            "\n",
            "[%] Indexed 30 Images on Page 1.\n",
            "\n",
            "===============================================\n",
            "\n",
            "[%] Downloading Image #1 from http://3.bp.blogspot.com/-nYCVVVtbZGQ/UNP_Azg7IrI/AAAAAAAAAQs/Go05GgzJ5aw/s1600/Male+African+Lion.jpg\n",
            "[%] File Downloaded !\n",
            "\n",
            "[%] Downloading Image #2 from https://i.pinimg.com/originals/d5/6b/3c/d56b3cab4d23fb0c7a8a7d250f904cd7.jpg\n",
            "[%] File Downloaded !\n",
            "\n",
            "[%] Downloading Image #3 from http://www.trueactivist.com/wp-content/uploads/2015/12/Lion_1.jpg\n",
            "[%] File Downloaded !\n",
            "\n",
            "[%] Downloading Image #4 from https://www.nyrealestatelawblog.com/images/blog/lion_kenya_copyrighted_2012_all_rights_reserved_photo_call_lucas_ferrara_nyreblog_com_.jpg\n",
            "[%] File Downloaded !\n",
            "\n",
            "[%] Downloading Image #5 from https://i.pinimg.com/originals/bc/14/80/bc1480d2313b767d38079b5201b1d685.jpg\n",
            "[%] File Downloaded !\n",
            "\n",
            "[%] Downloading Image #6 from https://i.pinimg.com/736x/45/d6/fe/45d6fe17ece514d91d637476889a3f88--zimbabwe-lion-cub.jpg\n",
            "[%] File Downloaded !\n",
            "\n",
            "[%] Downloading Image #7 from https://i.pinimg.com/originals/1d/2c/05/1d2c057c11933f4a3f403cab121a1c35.jpg\n",
            "[%] File Downloaded !\n",
            "\n",
            "[%] Downloading Image #8 from https://i1.treknature.com/photos/11474/dsc_0774b.jpg\n",
            "[%] File Downloaded !\n",
            "\n",
            "[%] Downloading Image #9 from https://i.pinimg.com/736x/ae/67/66/ae67661bfdc55bece8ffb29efdf4d469--lev-august-.jpg\n",
            "[%] File Downloaded !\n",
            "\n",
            "[%] Downloading Image #10 from https://i.pinimg.com/originals/9d/f1/a8/9df1a8b92abae2c11ea5fe3b61ed4815.jpg\n",
            "[%] File Downloaded !\n",
            "\n",
            "[%] Downloading Image #11 from https://i.pinimg.com/originals/25/ae/f3/25aef3c665be06400b5df6cf07054e97.jpg\n",
            "[%] File Downloaded !\n",
            "\n",
            "[%] Downloading Image #12 from https://destinycollegeonline.com/wp-content/uploads/2015/01/Fotolia_58838571_Subscription_Monthly_M-1038x576.jpg\n",
            "[%] File Downloaded !\n",
            "\n",
            "[%] Downloading Image #13 from http://www.jukani.co.za/img.php?image=https://jukani.co.za/userfiles/images/Jukani-2020/White-Lion.jpg\n",
            "[%] File Downloaded !\n",
            "\n",
            "[%] Downloading Image #14 from https://cache.desktopnexus.com/thumbseg/665/665358-bigthumbnail.jpg\n",
            "[%] File Downloaded !\n",
            "\n",
            "[%] Downloading Image #15 from https://i1.wp.com/www.mahohboh.org/wp-content/uploads/2020/04/WhatsApp-Image-2020-04-23-at-16.51.50-1.jpeg?resize=800%2C534&amp;ssl=1\n",
            "[%] File Downloaded !\n",
            "\n",
            "[%] Downloading Image #16 from https://www.storytrender.com/wp-content/uploads/2018/05/4_CATERS_LION_CUB_ANNOYS_DAD_05-703x1024.jpg\n",
            "[%] File Downloaded !\n",
            "\n",
            "[%] Downloading Image #17 from http://edge360online.com/wp-content/uploads/2015/02/shutterstock_141063280-1.jpg\n",
            "[%] File Downloaded !\n",
            "\n",
            "[%] Downloading Image #18 from https://www.whats-your-sign.com/wp-content/uploads/2018/03/Lion3.jpg\n",
            "[%] File Downloaded !\n",
            "\n",
            "[%] Downloading Image #19 from http://4.bp.blogspot.com/-w_m3SpZaIpo/UNP--y499xI/AAAAAAAAAQk/DjhtTlmYxsc/s1600/Female+African+Lion.jpg\n",
            "[%] File Downloaded !\n",
            "\n",
            "[%] Downloading Image #20 from https://murals-weblinc.netdna-ssl.com/product_images/camouflaged-lion-in-the-grass-mural/5ec82d75bd89dd0018f757a7/zoom.jpg?c=1590177141\n",
            "[%] File Downloaded !\n",
            "\n",
            "[%] Downloading Image #21 from https://lh6.googleusercontent.com/-KO-YMV_9cqw/TXOwYKJq1EI/AAAAAAAABiI/e9DRPN_Rt2E/s1600/Mountain_Lionf.jpg\n",
            "[%] File Downloaded !\n",
            "\n",
            "[%] Downloading Image #22 from https://i.pinimg.com/originals/24/ba/28/24ba28f93976aa35636472dd5009cb63.jpg\n",
            "[%] File Downloaded !\n",
            "\n",
            "[%] Downloading Image #23 from http://compassioncircle.com/wp-content/uploads/2011/07/Lion_Lamb2.jpg\n",
            "[%] File Downloaded !\n",
            "\n",
            "[%] Downloading Image #24 from https://i.pinimg.com/originals/97/4f/66/974f6679b6787dc4074cba04ba9238f7.jpg\n",
            "[%] File Downloaded !\n",
            "\n",
            "[%] Downloading Image #25 from https://i.pinimg.com/originals/ae/0f/a9/ae0fa9a4ef542c8c9d0482b5d50fe67d.jpg\n",
            "[%] File Downloaded !\n",
            "\n",
            "[%] Downloading Image #26 from https://i.pinimg.com/736x/27/13/74/271374c08e1427eca4ffe419cc0eb62d.jpg\n",
            "[%] File Downloaded !\n",
            "\n",
            "[%] Downloading Image #27 from http://3.bp.blogspot.com/-a8xW6J4LB2M/TghXq9k3DCI/AAAAAAAAAMs/LnI11Rcc70Q/s1600/African+Lion3.jpg\n",
            "[%] File Downloaded !\n",
            "\n",
            "[%] Downloading Image #28 from https://i1.wp.com/www.jbaynews.com/wp-content/uploads/2014/02/addo-lion-ZH.jpg?fit=960%2C720&amp;ssl=1\n",
            "[%] File Downloaded !\n",
            "\n",
            "[%] Downloading Image #29 from http://cdn.playbuzz.com/cdn/286bb0d5-c085-479e-80c2-5d842cf4c538/b767619c-df47-46f4-9219-6cdceea7c28d.jpg\n",
            "[%] File Downloaded !\n",
            "\n",
            "[%] Downloading Image #30 from https://img.srgcdn.com/e/RXd0Yk0zQnJBUDZ0eDVkSEQxdW0uanBn.jpg\n",
            "[%] File Downloaded !\n",
            "\n",
            "\n",
            "\n",
            "[%] Done. Downloaded 30 images.\n",
            "===============================================\n",
            "\n",
            "Please show your support here\n",
            "https://www.buymeacoffee.com/gurugaurav\n",
            "\n",
            "===============================================\n",
            "\n"
          ]
        }
      ]
    },
    {
      "cell_type": "code",
      "metadata": {
        "colab": {
          "base_uri": "https://localhost:8080/"
        },
        "id": "xkz0PBWa4BVS",
        "outputId": "0d3b10ba-3e29-4f7c-bda0-d541f2657134"
      },
      "source": [
        "import numpy as np\n",
        "a=np.array([[1,2,3,4,5],[4,5,6,7,8]])\n",
        "a.ndim"
      ],
      "execution_count": 10,
      "outputs": [
        {
          "output_type": "execute_result",
          "data": {
            "text/plain": [
              "2"
            ]
          },
          "metadata": {},
          "execution_count": 10
        }
      ]
    },
    {
      "cell_type": "code",
      "metadata": {
        "colab": {
          "base_uri": "https://localhost:8080/"
        },
        "id": "jNRAhenT4SCe",
        "outputId": "daff1898-3ade-47aa-fcab-1ebc455cf733"
      },
      "source": [
        "#Preprocessing\n",
        "import tensorflow as tf\n",
        "import os\n",
        "import matplotlib.pyplot as plt\n",
        "import numpy as np\n",
        "from skimage.io import imread\n",
        "from skimage.transform import resize\n",
        "\n",
        "target=[]\n",
        "images=[]\n",
        "flat_data=[]\n",
        "\n",
        "DATADIR='/content/images'\n",
        "CATEGORIES=['pretty sunflower','cats','roses','dogs','lotus','tiger','lion']\n",
        "\n",
        "for category in CATEGORIES:\n",
        "  class_num=CATEGORIES.index(category) #Label Encoding the values\n",
        "  path=os.path.join(DATADIR,category)\n",
        "  print(path)\n",
        "  for img in os.listdir(path):\n",
        "    img_array=imread(os.path.join(path,img))\n",
        "    img_resized=resize(img_array,(150,150,3))\n",
        "    flat_data.append(img_resized.flatten())\n",
        "    images.append(img_resized)\n",
        "    target.append(class_num)\n",
        "flat_data=np.array(flat_data)\n",
        "target=np.array(target)\n",
        "images=np.array(images)"
      ],
      "execution_count": 11,
      "outputs": [
        {
          "output_type": "stream",
          "name": "stdout",
          "text": [
            "/content/images/pretty sunflower\n",
            "/content/images/cats\n",
            "/content/images/roses\n",
            "/content/images/dogs\n",
            "/content/images/lotus\n",
            "/content/images/tiger\n",
            "/content/images/lion\n"
          ]
        }
      ]
    },
    {
      "cell_type": "code",
      "metadata": {
        "colab": {
          "base_uri": "https://localhost:8080/"
        },
        "id": "LVj0PpQr5ROw",
        "outputId": "aafd2518-c6ac-4aa4-8bfd-aa207a0fe6a2"
      },
      "source": [
        "target"
      ],
      "execution_count": 12,
      "outputs": [
        {
          "output_type": "execute_result",
          "data": {
            "text/plain": [
              "array([0, 0, 0, 0, 0, 0, 0, 0, 0, 0, 0, 0, 0, 0, 0, 0, 0, 0, 0, 0, 0, 0,\n",
              "       0, 0, 0, 0, 0, 0, 0, 0, 1, 1, 1, 1, 1, 1, 1, 1, 1, 1, 1, 1, 1, 1,\n",
              "       1, 1, 1, 1, 1, 1, 1, 1, 1, 1, 1, 1, 1, 1, 1, 1, 2, 2, 2, 2, 2, 2,\n",
              "       2, 2, 2, 2, 2, 2, 2, 2, 2, 2, 2, 2, 2, 2, 3, 3, 3, 3, 3, 3, 3, 3,\n",
              "       3, 3, 3, 3, 3, 3, 3, 3, 3, 3, 3, 3, 3, 3, 3, 3, 3, 3, 3, 3, 3, 3,\n",
              "       4, 4, 4, 4, 4, 4, 4, 4, 4, 4, 4, 4, 4, 4, 4, 4, 4, 4, 4, 4, 4, 4,\n",
              "       4, 4, 4, 4, 4, 4, 4, 4, 5, 5, 5, 5, 5, 5, 5, 5, 5, 5, 5, 5, 5, 5,\n",
              "       5, 5, 5, 5, 5, 5, 5, 5, 5, 5, 5, 5, 5, 5, 5, 5, 6, 6, 6, 6, 6, 6,\n",
              "       6, 6, 6, 6, 6, 6, 6, 6, 6, 6, 6, 6, 6, 6, 6, 6, 6, 6, 6, 6, 6, 6,\n",
              "       6, 6])"
            ]
          },
          "metadata": {},
          "execution_count": 12
        }
      ]
    },
    {
      "cell_type": "code",
      "metadata": {
        "colab": {
          "base_uri": "https://localhost:8080/"
        },
        "id": "eaD_9W7_5WEL",
        "outputId": "b2c54d7e-4363-49d2-d71b-ea2861d47fe1"
      },
      "source": [
        "flat_data"
      ],
      "execution_count": 13,
      "outputs": [
        {
          "output_type": "execute_result",
          "data": {
            "text/plain": [
              "array([[0.59607843, 0.76470588, 0.89803922, ..., 0.11328105, 0.15664052,\n",
              "        0.10566013],\n",
              "       [0.32941176, 0.57254902, 0.76078431, ..., 0.3756427 , 0.44313725,\n",
              "        0.28627451],\n",
              "       [0.41176471, 0.51764706, 0.14509804, ..., 0.34117647, 0.43137255,\n",
              "        0.15622222],\n",
              "       ...,\n",
              "       [0.74901961, 0.56078431, 0.2627451 , ..., 0.83071895, 0.64607843,\n",
              "        0.31535948],\n",
              "       [0.79410353, 0.75584314, 0.64900549, ..., 0.68449882, 0.60442039,\n",
              "        0.48387137],\n",
              "       [0.47385621, 0.39542484, 0.2503268 , ..., 0.41372549, 0.44248366,\n",
              "        0.31013072]])"
            ]
          },
          "metadata": {},
          "execution_count": 13
        }
      ]
    },
    {
      "cell_type": "code",
      "metadata": {
        "colab": {
          "base_uri": "https://localhost:8080/"
        },
        "id": "H-M--wvw5X1Q",
        "outputId": "a9547370-77b8-48c3-fd6b-720c2f8e0754"
      },
      "source": [
        "target"
      ],
      "execution_count": 14,
      "outputs": [
        {
          "output_type": "execute_result",
          "data": {
            "text/plain": [
              "array([0, 0, 0, 0, 0, 0, 0, 0, 0, 0, 0, 0, 0, 0, 0, 0, 0, 0, 0, 0, 0, 0,\n",
              "       0, 0, 0, 0, 0, 0, 0, 0, 1, 1, 1, 1, 1, 1, 1, 1, 1, 1, 1, 1, 1, 1,\n",
              "       1, 1, 1, 1, 1, 1, 1, 1, 1, 1, 1, 1, 1, 1, 1, 1, 2, 2, 2, 2, 2, 2,\n",
              "       2, 2, 2, 2, 2, 2, 2, 2, 2, 2, 2, 2, 2, 2, 3, 3, 3, 3, 3, 3, 3, 3,\n",
              "       3, 3, 3, 3, 3, 3, 3, 3, 3, 3, 3, 3, 3, 3, 3, 3, 3, 3, 3, 3, 3, 3,\n",
              "       4, 4, 4, 4, 4, 4, 4, 4, 4, 4, 4, 4, 4, 4, 4, 4, 4, 4, 4, 4, 4, 4,\n",
              "       4, 4, 4, 4, 4, 4, 4, 4, 5, 5, 5, 5, 5, 5, 5, 5, 5, 5, 5, 5, 5, 5,\n",
              "       5, 5, 5, 5, 5, 5, 5, 5, 5, 5, 5, 5, 5, 5, 5, 5, 6, 6, 6, 6, 6, 6,\n",
              "       6, 6, 6, 6, 6, 6, 6, 6, 6, 6, 6, 6, 6, 6, 6, 6, 6, 6, 6, 6, 6, 6,\n",
              "       6, 6])"
            ]
          },
          "metadata": {},
          "execution_count": 14
        }
      ]
    },
    {
      "cell_type": "code",
      "metadata": {
        "colab": {
          "base_uri": "https://localhost:8080/",
          "height": 282
        },
        "id": "4SJZm2ef5cgG",
        "outputId": "408b4b61-1f7b-4223-e709-574ddb127446"
      },
      "source": [
        "unique,count=np.unique(target,return_counts=True)\n",
        "plt.bar(CATEGORIES,count)"
      ],
      "execution_count": 15,
      "outputs": [
        {
          "output_type": "execute_result",
          "data": {
            "text/plain": [
              "<BarContainer object of 7 artists>"
            ]
          },
          "metadata": {},
          "execution_count": 15
        },
        {
          "output_type": "display_data",
          "data": {
            "image/png": "[encoded data removed]",
            "text/plain": [
              "<Figure size 432x288 with 1 Axes>"
            ]
          },
          "metadata": {
            "needs_background": "light"
          }
        }
      ]
    },
    {
      "cell_type": "code",
      "metadata": {
        "id": "xdy_a6HH5eXg"
      },
      "source": [
        "#Spliting data into Training and Testing sets"
      ],
      "execution_count": null,
      "outputs": []
    },
    {
      "cell_type": "code",
      "metadata": {
        "id": "wMQLSJ2T5lCz"
      },
      "source": [
        "import pandas as pd\n",
        "from sklearn.model_selection import train_test_split\n",
        "\n",
        "x_train,x_test,y_train,y_test=train_test_split(flat_data,target,test_size=.3)\n",
        "x_train,x_val,y_train,y_val=train_test_split(x_train,y_train,test_size=.3)"
      ],
      "execution_count": 16,
      "outputs": []
    },
    {
      "cell_type": "code",
      "metadata": {
        "colab": {
          "base_uri": "https://localhost:8080/"
        },
        "id": "sHVOvuA15r8L",
        "outputId": "da573582-db03-4b3f-e2c8-9dda2442f4c4"
      },
      "source": [
        "#Dimension of dataset\n",
        "\n",
        "print((x_train.shape,y_train.shape))\n",
        "print((x_val.shape,y_val.shape))\n",
        "print((x_test.shape,y_test.shape))"
      ],
      "execution_count": 17,
      "outputs": [
        {
          "output_type": "stream",
          "name": "stdout",
          "text": [
            "((98, 67500), (98,))\n",
            "((42, 67500), (42,))\n",
            "((60, 67500), (60,))\n"
          ]
        }
      ]
    },
    {
      "cell_type": "code",
      "metadata": {
        "id": "AxXIJq8X5tlS"
      },
      "source": [
        "from tensorflow.keras.utils import to_categorical\n",
        "\n",
        "#One Hot Encoding\n",
        "y_train=to_categorical(y_train)\n",
        "y_val=to_categorical(y_val)\n",
        "y_test=to_categorical(y_test)"
      ],
      "execution_count": 18,
      "outputs": []
    },
    {
      "cell_type": "code",
      "metadata": {
        "colab": {
          "base_uri": "https://localhost:8080/"
        },
        "id": "aqzpF6bO5z7C",
        "outputId": "2dac3992-14b1-46b5-a70d-44a2d18170fb"
      },
      "source": [
        "#verifying the dimension after one hot encoding\n",
        "\n",
        "print((x_train.shape,y_train.shape))\n",
        "print((x_val.shape,y_val.shape))\n",
        "print((x_test.shape,y_test.shape))"
      ],
      "execution_count": 19,
      "outputs": [
        {
          "output_type": "stream",
          "name": "stdout",
          "text": [
            "((98, 67500), (98, 7))\n",
            "((42, 67500), (42, 7))\n",
            "((60, 67500), (60, 7))\n"
          ]
        }
      ]
    },
    {
      "cell_type": "code",
      "metadata": {
        "id": "whyEBoF954W8"
      },
      "source": [
        "import tensorflow as tf\n",
        "from tensorflow.keras.preprocessing.image import ImageDataGenerator\n",
        "from tensorflow.keras import Sequential\n",
        "from tensorflow.keras.applications import VGG19 #For Transfer Learning\n",
        "from tensorflow.keras.optimizers import SGD,Adam\n",
        "from tensorflow.keras.callbacks import ReduceLROnPlateau\n",
        "from tensorflow.keras.layers import Flatten,Dense,BatchNormalization,Activation,Dropout\n",
        "\n",
        "#Image Data Augmentation\n",
        "\n",
        "train_generator=ImageDataGenerator(rotation_range=2,horizontal_flip=True,width_shift_range=0.2,\n",
        "    height_shift_range=0.2,\n",
        "    validation_split=0.2, zoom_range=.1)\n",
        "val_generator = ImageDataGenerator(rotation_range=2, horizontal_flip=True,width_shift_range=0.2,\n",
        "    height_shift_range=0.2, zoom_range=.1)\n",
        "test_generator=ImageDataGenerator(rotation_range=2,horizontal_flip=True,width_shift_range=0.2,\n",
        "    height_shift_range=0.2,\n",
        "    validation_split=0.2, zoom_range=.1)\n",
        "\n",
        "#Fitting the augmentation defined above to the data\n",
        "\n",
        "train_generator.fit(x_train.reshape(98,150,150,3))\n",
        "val_generator.fit(x_val.reshape(42,150,150,3))\n",
        "test_generator.fit(x_test.reshape(60,150,150,3))"
      ],
      "execution_count": 20,
      "outputs": []
    },
    {
      "cell_type": "code",
      "metadata": {
        "id": "TaqnYykz5_V8"
      },
      "source": [
        "#Learning Rate Annealer\n",
        "\n",
        "lrr=tf.keras.callbacks.ReduceLROnPlateau(monitor='val_loss', factor=.01,paitence=10,min_lr=1e-5)"
      ],
      "execution_count": 21,
      "outputs": []
    },
    {
      "cell_type": "code",
      "metadata": {
        "colab": {
          "base_uri": "https://localhost:8080/"
        },
        "id": "ArjTwFbY6C0P",
        "outputId": "b7e73ee0-e630-41ab-cb66-0c6768dc585f"
      },
      "source": [
        "y_train.shape"
      ],
      "execution_count": 22,
      "outputs": [
        {
          "output_type": "execute_result",
          "data": {
            "text/plain": [
              "(98, 7)"
            ]
          },
          "metadata": {},
          "execution_count": 22
        }
      ]
    },
    {
      "cell_type": "code",
      "metadata": {
        "colab": {
          "base_uri": "https://localhost:8080/"
        },
        "id": "zRJL6tv36Gyo",
        "outputId": "06b76525-0082-429f-fa94-49b423ba5618"
      },
      "source": [
        "#Defining the VGG Convolutional Neural Net\n",
        "\n",
        "base_model = VGG19(include_top = False, weights = 'imagenet', input_shape = (150,150,3), classes = y_train.shape[1])"
      ],
      "execution_count": 23,
      "outputs": [
        {
          "output_type": "stream",
          "name": "stdout",
          "text": [
            "Downloading data from https://storage.googleapis.com/tensorflow/keras-applications/vgg19/vgg19_weights_tf_dim_ordering_tf_kernels_notop.h5\n",
            "80142336/80134624 [==============================] - 0s 0us/step\n",
            "80150528/80134624 [==============================] - 0s 0us/step\n"
          ]
        }
      ]
    },
    {
      "cell_type": "code",
      "metadata": {
        "id": "OqDTSeE06Ku3"
      },
      "source": [
        "#Adding the final layers to the above base models where the actual classification is done in the dense layers\n",
        "\n",
        "model=Sequential()\n",
        "model.add(base_model)\n",
        "model.add(Flatten())"
      ],
      "execution_count": 24,
      "outputs": []
    },
    {
      "cell_type": "code",
      "metadata": {
        "colab": {
          "base_uri": "https://localhost:8080/"
        },
        "id": "cBEJyFJ16NzL",
        "outputId": "c573dd38-524b-45ea-d110-d12a2295181d"
      },
      "source": [
        "model.summary()"
      ],
      "execution_count": 25,
      "outputs": [
        {
          "output_type": "stream",
          "name": "stdout",
          "text": [
            "Model: \"sequential\"\n",
            "_________________________________________________________________\n",
            " Layer (type)                Output Shape              Param #   \n",
            "=================================================================\n",
            " vgg19 (Functional)          (None, 4, 4, 512)         20024384  \n",
            "                                                                 \n",
            " flatten (Flatten)           (None, 8192)              0         \n",
            "                                                                 \n",
            "=================================================================\n",
            "Total params: 20,024,384\n",
            "Trainable params: 20,024,384\n",
            "Non-trainable params: 0\n",
            "_________________________________________________________________\n"
          ]
        }
      ]
    },
    {
      "cell_type": "code",
      "metadata": {
        "colab": {
          "base_uri": "https://localhost:8080/"
        },
        "id": "Rq7B7-vi6Rg5",
        "outputId": "ab06bc1e-ef62-4849-8a49-67738b5d650e"
      },
      "source": [
        "#Adding the Dense layers along with activation and batch normalisation\n",
        "\n",
        "model.add(Dense(1024,activation=(\"relu\"),input_dim=512))\n",
        "model.add(Dense(512,activation=('relu')))\n",
        "model.add(Dense(256,activation=('relu')))\n",
        "\n",
        "model.add(Dense(128,activation=('relu')))\n",
        "#model.add(Dense(10,activation=('softmax')))\n",
        "model.add(Dense(7,activation=('softmax')))\n",
        "\n",
        "#Checking the final model summary\n",
        "model.summary()"
      ],
      "execution_count": 26,
      "outputs": [
        {
          "output_type": "stream",
          "name": "stdout",
          "text": [
            "Model: \"sequential\"\n",
            "_________________________________________________________________\n",
            " Layer (type)                Output Shape              Param #   \n",
            "=================================================================\n",
            " vgg19 (Functional)          (None, 4, 4, 512)         20024384  \n",
            "                                                                 \n",
            " flatten (Flatten)           (None, 8192)              0         \n",
            "                                                                 \n",
            " dense (Dense)               (None, 1024)              8389632   \n",
            "                                                                 \n",
            " dense_1 (Dense)             (None, 512)               524800    \n",
            "                                                                 \n",
            " dense_2 (Dense)             (None, 256)               131328    \n",
            "                                                                 \n",
            " dense_3 (Dense)             (None, 128)               32896     \n",
            "                                                                 \n",
            " dense_4 (Dense)             (None, 7)                 903       \n",
            "                                                                 \n",
            "=================================================================\n",
            "Total params: 29,103,943\n",
            "Trainable params: 29,103,943\n",
            "Non-trainable params: 0\n",
            "_________________________________________________________________\n"
          ]
        }
      ]
    },
    {
      "cell_type": "code",
      "metadata": {
        "colab": {
          "base_uri": "https://localhost:8080/"
        },
        "id": "Jov2MX4x6TWd",
        "outputId": "b9b38fbf-deb8-48c1-d71c-51f6cf18ffcb"
      },
      "source": [
        "#initializing the hyperparameters\n",
        "\n",
        "batch_size=10\n",
        "epochs=10\n",
        "learn_rate=.001\n",
        "sgd=SGD(lr=learn_rate,momentum=.9,nesterov=False)\n",
        "adam=Adam(lr=learn_rate, beta_1=0.9, beta_2=0.999, epsilon=None, decay=0.0, amsgrad=False)\n",
        "model.compile(optimizer=sgd,loss='categorical_crossentropy',metrics=['accuracy'])\n",
        "model.summary()"
      ],
      "execution_count": 27,
      "outputs": [
        {
          "output_type": "stream",
          "name": "stdout",
          "text": [
            "Model: \"sequential\"\n",
            "_________________________________________________________________\n",
            " Layer (type)                Output Shape              Param #   \n",
            "=================================================================\n",
            " vgg19 (Functional)          (None, 4, 4, 512)         20024384  \n",
            "                                                                 \n",
            " flatten (Flatten)           (None, 8192)              0         \n",
            "                                                                 \n",
            " dense (Dense)               (None, 1024)              8389632   \n",
            "                                                                 \n",
            " dense_1 (Dense)             (None, 512)               524800    \n",
            "                                                                 \n",
            " dense_2 (Dense)             (None, 256)               131328    \n",
            "                                                                 \n",
            " dense_3 (Dense)             (None, 128)               32896     \n",
            "                                                                 \n",
            " dense_4 (Dense)             (None, 7)                 903       \n",
            "                                                                 \n",
            "=================================================================\n",
            "Total params: 29,103,943\n",
            "Trainable params: 29,103,943\n",
            "Non-trainable params: 0\n",
            "_________________________________________________________________\n"
          ]
        },
        {
          "output_type": "stream",
          "name": "stderr",
          "text": [
            "/usr/local/lib/python3.7/dist-packages/keras/optimizer_v2/gradient_descent.py:102: UserWarning: The `lr` argument is deprecated, use `learning_rate` instead.\n",
            "  super(SGD, self).__init__(name, **kwargs)\n",
            "/usr/local/lib/python3.7/dist-packages/keras/optimizer_v2/adam.py:105: UserWarning: The `lr` argument is deprecated, use `learning_rate` instead.\n",
            "  super(Adam, self).__init__(name, **kwargs)\n"
          ]
        }
      ]
    },
    {
      "cell_type": "code",
      "metadata": {
        "colab": {
          "base_uri": "https://localhost:8080/"
        },
        "id": "6e1c2XnA6XuR",
        "outputId": "9906b144-aeaf-470f-95e0-3ba834d2bec8"
      },
      "source": [
        "#Training the model\n",
        "model.fit_generator(train_generator.flow(x_train.reshape(98,150,150,3), y_train, batch_size= batch_size),epochs = epochs, \n",
        "                    steps_per_epoch = x_train.shape[0]//batch_size,\n",
        "                    validation_data = val_generator.flow(x_val.reshape(42,150,150,3), y_val, batch_size = batch_size), \n",
        "                    validation_steps = 250,callbacks=[lrr], verbose = 1)"
      ],
      "execution_count": 28,
      "outputs": [
        {
          "output_type": "stream",
          "name": "stderr",
          "text": [
            "/usr/local/lib/python3.7/dist-packages/ipykernel_launcher.py:5: UserWarning: `Model.fit_generator` is deprecated and will be removed in a future version. Please use `Model.fit`, which supports generators.\n",
            "  \"\"\"\n"
          ]
        },
        {
          "output_type": "stream",
          "name": "stdout",
          "text": [
            "Epoch 1/10\n",
            "9/9 [==============================] - ETA: 0s - loss: 1.9279 - accuracy: 0.1705 WARNING:tensorflow:Your input ran out of data; interrupting training. Make sure that your dataset or generator can generate at least `steps_per_epoch * epochs` batches (in this case, 250 batches). You may need to use the repeat() function when building your dataset.\n",
            "9/9 [==============================] - 116s 13s/step - loss: 1.9279 - accuracy: 0.1705 - val_loss: 1.9144 - val_accuracy: 0.1667 - lr: 0.0010\n",
            "Epoch 2/10\n",
            "9/9 [==============================] - ETA: 0s - loss: 1.8038 - accuracy: 0.3068 WARNING:tensorflow:Learning rate reduction is conditioned on metric `val_loss` which is not available. Available metrics are: loss,accuracy,lr\n",
            "9/9 [==============================] - 92s 10s/step - loss: 1.8038 - accuracy: 0.3068 - lr: 0.0010\n",
            "Epoch 3/10\n",
            "9/9 [==============================] - ETA: 0s - loss: 1.5354 - accuracy: 0.5000 WARNING:tensorflow:Learning rate reduction is conditioned on metric `val_loss` which is not available. Available metrics are: loss,accuracy,lr\n",
            "9/9 [==============================] - 92s 10s/step - loss: 1.5354 - accuracy: 0.5000 - lr: 0.0010\n",
            "Epoch 4/10\n",
            "9/9 [==============================] - ETA: 0s - loss: 1.1651 - accuracy: 0.5682 WARNING:tensorflow:Learning rate reduction is conditioned on metric `val_loss` which is not available. Available metrics are: loss,accuracy,lr\n",
            "9/9 [==============================] - 92s 10s/step - loss: 1.1651 - accuracy: 0.5682 - lr: 0.0010\n",
            "Epoch 5/10\n",
            "9/9 [==============================] - ETA: 0s - loss: 1.0146 - accuracy: 0.5909 WARNING:tensorflow:Learning rate reduction is conditioned on metric `val_loss` which is not available. Available metrics are: loss,accuracy,lr\n",
            "9/9 [==============================] - 92s 10s/step - loss: 1.0146 - accuracy: 0.5909 - lr: 0.0010\n",
            "Epoch 6/10\n",
            "9/9 [==============================] - ETA: 0s - loss: 0.5930 - accuracy: 0.7841 WARNING:tensorflow:Learning rate reduction is conditioned on metric `val_loss` which is not available. Available metrics are: loss,accuracy,lr\n",
            "9/9 [==============================] - 91s 10s/step - loss: 0.5930 - accuracy: 0.7841 - lr: 0.0010\n",
            "Epoch 7/10\n",
            "9/9 [==============================] - ETA: 0s - loss: 0.9844 - accuracy: 0.6705 WARNING:tensorflow:Learning rate reduction is conditioned on metric `val_loss` which is not available. Available metrics are: loss,accuracy,lr\n",
            "9/9 [==============================] - 91s 10s/step - loss: 0.9844 - accuracy: 0.6705 - lr: 0.0010\n",
            "Epoch 8/10\n",
            "9/9 [==============================] - ETA: 0s - loss: 0.9341 - accuracy: 0.6932 WARNING:tensorflow:Learning rate reduction is conditioned on metric `val_loss` which is not available. Available metrics are: loss,accuracy,lr\n",
            "9/9 [==============================] - 91s 10s/step - loss: 0.9341 - accuracy: 0.6932 - lr: 0.0010\n",
            "Epoch 9/10\n",
            "9/9 [==============================] - ETA: 0s - loss: 0.6656 - accuracy: 0.7273 WARNING:tensorflow:Learning rate reduction is conditioned on metric `val_loss` which is not available. Available metrics are: loss,accuracy,lr\n",
            "9/9 [==============================] - 91s 10s/step - loss: 0.6656 - accuracy: 0.7273 - lr: 0.0010\n",
            "Epoch 10/10\n",
            "9/9 [==============================] - ETA: 0s - loss: 0.4504 - accuracy: 0.8864 WARNING:tensorflow:Learning rate reduction is conditioned on metric `val_loss` which is not available. Available metrics are: loss,accuracy,lr\n",
            "9/9 [==============================] - 92s 11s/step - loss: 0.4504 - accuracy: 0.8864 - lr: 0.0010\n"
          ]
        },
        {
          "output_type": "execute_result",
          "data": {
            "text/plain": [
              "<keras.callbacks.History at 0x7f21cfad2050>"
            ]
          },
          "metadata": {},
          "execution_count": 28
        }
      ]
    },
    {
      "cell_type": "code",
      "metadata": {
        "colab": {
          "base_uri": "https://localhost:8080/"
        },
        "id": "UkwmgpYo_IAG",
        "outputId": "db1661a2-d95e-42ce-9411-92b915f2006b"
      },
      "source": [
        "from google.colab import drive\n",
        "drive.mount('/content/drive')"
      ],
      "execution_count": 29,
      "outputs": [
        {
          "output_type": "stream",
          "name": "stdout",
          "text": [
            "Mounted at /content/drive\n"
          ]
        }
      ]
    },
    {
      "cell_type": "code",
      "metadata": {
        "colab": {
          "base_uri": "https://localhost:8080/"
        },
        "id": "pieqFCrZ_pGD",
        "outputId": "e662282a-7793-4dee-9bc3-e1789e55fb0f"
      },
      "source": [
        "#Making prediction\n",
        "y_pred=model.predict(x_test.reshape(60,150,150,3))\n",
        "y_true=np.argmax(y_test,axis=1)\n",
        "y_pred"
      ],
      "execution_count": 31,
      "outputs": [
        {
          "output_type": "execute_result",
          "data": {
            "text/plain": [
              "array([[4.10884589e-01, 2.39272434e-02, 4.91476238e-01, 5.75956935e-03,\n",
              "        6.46362081e-02, 5.81386732e-04, 2.73474678e-03],\n",
              "       [2.78526377e-02, 5.77870727e-01, 1.93568230e-01, 9.95971039e-02,\n",
              "        3.53415869e-02, 1.24515705e-02, 5.33182025e-02],\n",
              "       [4.92122304e-03, 8.55631113e-01, 1.22458336e-03, 5.24072610e-02,\n",
              "        6.98150950e-04, 2.10109982e-03, 8.30165073e-02],\n",
              "       [9.99568164e-01, 4.98707777e-05, 2.69058190e-04, 9.08887159e-05,\n",
              "        1.18906319e-05, 9.08451170e-07, 9.08638867e-06],\n",
              "       [7.43680284e-04, 2.63264626e-01, 6.62074744e-05, 2.37447340e-02,\n",
              "        1.21980134e-04, 1.24709532e-02, 6.99587822e-01],\n",
              "       [5.99995255e-02, 7.78140174e-03, 6.89626157e-01, 1.21878821e-03,\n",
              "        2.41126031e-01, 2.30703881e-05, 2.24950476e-04],\n",
              "       [9.97104824e-01, 1.76445814e-03, 8.69101495e-05, 9.46535612e-04,\n",
              "        4.12018671e-05, 1.90370736e-06, 5.41901391e-05],\n",
              "       [3.84973101e-02, 1.54298786e-02, 9.14108574e-01, 1.28692612e-02,\n",
              "        1.65485069e-02, 1.18549156e-03, 1.36091991e-03],\n",
              "       [1.38174638e-03, 2.99015492e-01, 1.16669398e-03, 5.94329953e-01,\n",
              "        5.49895980e-04, 3.84200970e-03, 9.97142047e-02],\n",
              "       [4.10612412e-02, 2.74728489e-04, 7.18984306e-01, 1.60168493e-04,\n",
              "        2.39500001e-01, 6.62476111e-07, 1.88751510e-05],\n",
              "       [9.99974251e-01, 1.41336830e-06, 4.92171148e-06, 1.92938660e-05,\n",
              "        1.07183837e-07, 6.90477364e-09, 3.84230319e-08],\n",
              "       [4.70878207e-04, 7.68296522e-05, 9.36401833e-04, 5.20912772e-06,\n",
              "        9.98507679e-01, 3.79212111e-08, 2.98934856e-06],\n",
              "       [4.81870212e-03, 3.25068906e-02, 3.33978358e-04, 8.01902451e-03,\n",
              "        8.69601427e-05, 7.81113863e-01, 1.73120558e-01],\n",
              "       [4.57103830e-03, 9.67933893e-01, 3.88039253e-03, 1.08993854e-02,\n",
              "        5.87844895e-03, 1.08297484e-03, 5.75371226e-03],\n",
              "       [9.39094782e-01, 4.67321090e-02, 1.20895740e-03, 8.92900955e-03,\n",
              "        1.13607396e-03, 3.80155863e-04, 2.51887273e-03],\n",
              "       [4.77960450e-04, 6.97863698e-02, 9.94068250e-05, 2.17886735e-02,\n",
              "        6.01949250e-05, 3.70764285e-02, 8.70710969e-01],\n",
              "       [8.20076372e-03, 9.22663450e-01, 1.68396700e-02, 2.62652151e-02,\n",
              "        9.26849805e-03, 2.56879139e-03, 1.41935404e-02],\n",
              "       [1.82311004e-03, 1.96992055e-01, 1.13208975e-04, 4.35121879e-02,\n",
              "        1.42380974e-04, 2.19455454e-02, 7.35471547e-01],\n",
              "       [1.03866644e-02, 8.18429589e-01, 3.31737660e-03, 1.57466173e-01,\n",
              "        1.81000540e-03, 4.36645001e-04, 8.15342180e-03],\n",
              "       [3.67502123e-02, 8.70865643e-01, 2.34314962e-03, 1.94662958e-02,\n",
              "        6.69461908e-03, 5.13718138e-03, 5.87428883e-02],\n",
              "       [9.99955773e-01, 5.09463280e-06, 2.58853925e-05, 9.27207657e-06,\n",
              "        3.84552050e-06, 1.07123146e-08, 1.14093623e-07],\n",
              "       [3.91868083e-03, 9.49113071e-01, 6.65275147e-04, 1.13395723e-02,\n",
              "        7.73233362e-04, 5.52495895e-03, 2.86651663e-02],\n",
              "       [9.40370592e-05, 7.27570068e-06, 3.69856891e-04, 3.01113033e-07,\n",
              "        9.99528408e-01, 2.12113194e-09, 1.38893299e-07],\n",
              "       [1.24651135e-03, 5.71797967e-01, 3.45917972e-04, 6.00073077e-02,\n",
              "        3.13586206e-04, 2.24486981e-02, 3.43840092e-01],\n",
              "       [5.37643768e-03, 1.35330844e-03, 5.65865019e-04, 3.58222060e-05,\n",
              "        9.92658675e-01, 8.48023944e-08, 9.79022025e-06],\n",
              "       [5.37113461e-04, 3.07390001e-02, 1.50845008e-04, 4.66289278e-03,\n",
              "        6.63445535e-05, 7.87037373e-01, 1.76806495e-01],\n",
              "       [3.21896689e-04, 1.78317372e-02, 3.50240771e-05, 4.86008264e-03,\n",
              "        2.72158213e-05, 4.49456334e-01, 5.27467728e-01],\n",
              "       [5.72999008e-03, 7.55057156e-01, 3.30615090e-03, 1.45871162e-01,\n",
              "        3.97876138e-03, 2.43818061e-03, 8.36185440e-02],\n",
              "       [2.22797482e-03, 3.26078758e-02, 1.80573377e-03, 9.50925767e-01,\n",
              "        3.25854984e-04, 1.25762972e-03, 1.08491778e-02],\n",
              "       [5.39232045e-02, 3.08626126e-02, 8.81727755e-01, 2.66033448e-02,\n",
              "        4.58403816e-03, 8.31841899e-04, 1.46708731e-03],\n",
              "       [9.29318077e-04, 6.19243383e-02, 1.08554552e-04, 1.34115564e-02,\n",
              "        5.68679679e-05, 6.93548977e-01, 2.30020389e-01],\n",
              "       [3.10130836e-03, 1.05020717e-01, 1.71814393e-03, 8.65014970e-01,\n",
              "        3.85676307e-04, 1.08201080e-03, 2.36772299e-02],\n",
              "       [4.37413482e-03, 8.01579177e-01, 3.95168609e-04, 4.87488359e-02,\n",
              "        6.24442240e-04, 9.08750948e-03, 1.35190696e-01],\n",
              "       [1.05316832e-03, 5.71952900e-04, 1.16686441e-03, 2.19298563e-05,\n",
              "        9.97175932e-01, 1.69983920e-07, 9.94458333e-06],\n",
              "       [1.73322303e-04, 2.03179717e-02, 3.51775852e-05, 2.45750998e-03,\n",
              "        2.06163113e-05, 7.61717260e-01, 2.15278104e-01],\n",
              "       [9.22736654e-05, 1.93350192e-03, 1.65592410e-05, 7.56480265e-04,\n",
              "        7.00230157e-06, 9.57678854e-01, 3.95153128e-02],\n",
              "       [9.99574363e-01, 3.03523138e-05, 2.77818704e-04, 5.11334620e-05,\n",
              "        6.38840429e-05, 1.88974525e-07, 2.16389162e-06],\n",
              "       [1.27223572e-02, 8.19727242e-01, 2.47692736e-03, 5.16138561e-02,\n",
              "        2.27112859e-03, 9.97587480e-03, 1.01212762e-01],\n",
              "       [4.19801654e-04, 1.19727083e-01, 7.74438377e-05, 2.09295489e-02,\n",
              "        1.19920594e-04, 1.46002388e-02, 8.44125926e-01],\n",
              "       [9.99451816e-01, 2.32816252e-04, 1.04518927e-04, 1.73942142e-04,\n",
              "        3.33639109e-05, 5.26955318e-07, 3.13180954e-06],\n",
              "       [9.93989944e-01, 1.05177367e-03, 3.64582730e-03, 4.39930503e-04,\n",
              "        5.79912215e-04, 6.71632661e-05, 2.25471900e-04],\n",
              "       [1.64151341e-02, 3.97011591e-03, 8.16800952e-01, 7.35665031e-04,\n",
              "        1.61963910e-01, 2.10167891e-05, 9.31992399e-05],\n",
              "       [4.45884243e-02, 1.24958926e-03, 5.83053147e-03, 6.78172582e-05,\n",
              "        9.48249340e-01, 2.28070178e-07, 1.41250393e-05],\n",
              "       [9.09971595e-02, 1.02331564e-02, 2.63008159e-02, 1.04343903e-03,\n",
              "        8.71265352e-01, 7.28234227e-06, 1.52821725e-04],\n",
              "       [2.22509634e-03, 1.79142773e-01, 1.71779116e-04, 5.56353591e-02,\n",
              "        2.30813283e-04, 3.17491964e-02, 7.30844975e-01],\n",
              "       [3.37520498e-04, 2.86262129e-02, 7.18788506e-05, 5.53331152e-03,\n",
              "        5.11563449e-05, 5.40643990e-01, 4.24735904e-01],\n",
              "       [9.99999166e-01, 4.34782557e-08, 4.89890454e-07, 4.06372067e-07,\n",
              "        4.35791314e-08, 1.43677535e-11, 4.06995132e-10],\n",
              "       [3.76607786e-04, 1.13513008e-01, 5.07664408e-05, 9.16284174e-02,\n",
              "        3.53052783e-05, 7.19739124e-03, 7.87198484e-01],\n",
              "       [3.02438941e-02, 6.81086704e-02, 4.22873572e-02, 2.75234040e-03,\n",
              "        8.55272710e-01, 5.22877490e-05, 1.28271384e-03],\n",
              "       [1.34780258e-02, 1.02135474e-02, 9.51808512e-01, 5.46457199e-03,\n",
              "        1.77415200e-02, 5.26840275e-04, 7.67057762e-04],\n",
              "       [1.54517358e-04, 1.25160990e-02, 1.53925303e-05, 7.40152551e-03,\n",
              "        1.15076027e-05, 5.12427688e-01, 4.67473298e-01],\n",
              "       [1.78442698e-03, 6.97028577e-01, 2.81394256e-04, 2.49084383e-02,\n",
              "        4.38352145e-04, 1.44998534e-02, 2.61058986e-01],\n",
              "       [5.47698047e-03, 5.64996064e-01, 2.52692588e-03, 6.76402971e-02,\n",
              "        1.91298535e-03, 3.05574108e-02, 3.26889336e-01],\n",
              "       [3.14240553e-03, 1.00252328e-05, 1.81484094e-03, 1.12557257e-06,\n",
              "        9.95031476e-01, 1.38267064e-09, 1.59595686e-07],\n",
              "       [8.97559512e-04, 2.24015713e-01, 1.54104768e-04, 3.93724144e-02,\n",
              "        2.11286257e-04, 1.65137257e-02, 7.18835235e-01],\n",
              "       [1.24486571e-04, 7.32096657e-02, 1.98479011e-05, 3.06305494e-02,\n",
              "        2.14722022e-05, 1.26219485e-02, 8.83371949e-01],\n",
              "       [4.19531862e-04, 2.29133546e-01, 1.23732461e-04, 1.96386263e-01,\n",
              "        1.46832695e-04, 6.09768555e-03, 5.67692399e-01],\n",
              "       [5.73898782e-04, 6.93207985e-05, 1.14875473e-03, 5.41413328e-06,\n",
              "        9.98197734e-01, 1.70996543e-07, 4.76962487e-06],\n",
              "       [1.85407232e-03, 2.74166137e-01, 2.25005060e-04, 8.72365758e-02,\n",
              "        3.62601131e-04, 1.89551022e-02, 6.17200434e-01],\n",
              "       [3.89913958e-03, 8.78544757e-04, 9.64898229e-01, 4.03335463e-04,\n",
              "        2.98880860e-02, 4.58163959e-06, 2.80955392e-05]], dtype=float32)"
            ]
          },
          "metadata": {},
          "execution_count": 31
        }
      ]
    },
    {
      "cell_type": "code",
      "metadata": {
        "id": "oUSj0Gg4_uRd"
      },
      "source": [
        "model.save('Model.hdf5')"
      ],
      "execution_count": 32,
      "outputs": []
    },
    {
      "cell_type": "code",
      "metadata": {
        "colab": {
          "base_uri": "https://localhost:8080/",
          "height": 341
        },
        "id": "9tttYOut_zhu",
        "outputId": "1ad91f77-3283-4bfc-cf2e-d8d622d004aa"
      },
      "source": [
        "#Testing a brand new Image\n",
        "flat_data=[]\n",
        "url=input(\"Enter your URL:\")\n",
        "img=imread(url)\n",
        "img_resized=resize(img,(150,150,3))\n",
        "flat_data.append(img_resized.flatten())\n",
        "flat_data=np.array(flat_data)\n",
        "\n",
        "print(img.shape)\n",
        "plt.imshow(img_resized)\n",
        "y_out=model.predict(flat_data.reshape(1,150,150,3))\n",
        "classes_x=np.argmax(y_out,axis=1)\n",
        "np.array(classes_x)\n",
        "y=CATEGORIES[classes_x[0]]\n",
        "print(f'PREDICTED OUTPUT: {y}')"
      ],
      "execution_count": 38,
      "outputs": [
        {
          "output_type": "stream",
          "name": "stdout",
          "text": [
            "Enter your URL:https://www.newshub.co.nz/home/lifestyle/2019/11/dog-years-are-a-myth-2-year-old-dogs-already-middle-aged-scientists/_jcr_content/par/video/image.dynimg.1280.q75.jpg/v1574572358818/GETTY-labrador-puppy-1120.jpg\n",
            "(731, 1280, 3)\n",
            "PREDICTED OUTPUT: dogs\n"
          ]
        },
        {
          "output_type": "display_data",
          "data": {
            "image/png": "[encoded data removed]",
            "text/plain": [
              "<Figure size 432x288 with 1 Axes>"
            ]
          },
          "metadata": {
            "needs_background": "light"
          }
        }
      ]
    }
  ]
}
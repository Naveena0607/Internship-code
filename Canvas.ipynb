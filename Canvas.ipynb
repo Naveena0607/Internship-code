{
  "nbformat": 4,
  "nbformat_minor": 0,
  "metadata": {
    "colab": {
      "name": "Canvas.ipynb",
      "provenance": [],
      "authorship_tag": "ABX9TyMnPYWL7LN73eNvrWeUE31I",
      "include_colab_link": true
    },
    "kernelspec": {
      "name": "python3",
      "display_name": "Python 3"
    },
    "language_info": {
      "name": "python"
    }
  },
  "cells": [
    {
      "cell_type": "markdown",
      "metadata": {
        "id": "view-in-github",
        "colab_type": "text"
      },
      "source": [
        "<a href=\"https://colab.research.google.com/github/Naveena0607/Internship-code/blob/main/Canvas.ipynb\" target=\"_parent\"><img src=\"https://colab.research.google.com/assets/colab-badge.svg\" alt=\"Open In Colab\"/></a>"
      ]
    },
    {
      "cell_type": "code",
      "metadata": {
        "id": "RYesh6RZAKXR"
      },
      "source": [
        "!pip install streamlit --quiet\n",
        "!pip install -q pyngrok\n",
        "\n",
        "!pip install -q streamlit\n",
        "from pyngrok import ngrok\n",
        "\n",
        "!pip install -q streamlit_ace"
      ],
      "execution_count": 5,
      "outputs": []
    },
    {
      "cell_type": "code",
      "metadata": {
        "colab": {
          "base_uri": "https://localhost:8080/"
        },
        "id": "bC1WdImLAdhJ",
        "outputId": "83f3e6c8-632f-49e3-8a92-b84b7909ce58"
      },
      "source": [
        "%%writefile app.py\n",
        "import streamlit as s\n",
        "import numpy as np\n",
        "import tensorflow as tf\n",
        "from PIL import Image\n",
        "from skimage.transform import resize\n",
        "import sklearn\n",
        "s.title(\"Multi Class Image Classifier\")\n",
        "s.text(\"Upload the image \")\n",
        "CATEGORIES=['pretty sunflower','cats','roses','dogs','lotus','tiger','lion']\n",
        "model=tf.keras.models.load_model(\"Model.hdf5\")\n",
        "img_file=s.file_uploader(\"Choose a .jpg file\",type='jpg')\n",
        "if img_file is not None:\n",
        "  i=Image.open(img_file)\n",
        "  s.image(i,caption='Uploaded Image')\n",
        "  if s.button('PREDICT'):\n",
        "    s.write(\"Result:\")\n",
        "    flat_data=[]\n",
        "    i=np.array(i)\n",
        "    img_resized=resize(i,(150,150,3))\n",
        "    flat_data.append(img_resized.flatten())\n",
        "    flat_data=np.array(flat_data)\n",
        "    y_out=model.predict_classes(flat_data.reshape(1,150,150,3))\n",
        "    np.array(y_out)\n",
        "    y=CATEGORIES[y_out[0]]\n",
        "    s.title(f'PREDICTED OUTPUT: {y}')\n"
      ],
      "execution_count": 6,
      "outputs": [
        {
          "output_type": "stream",
          "name": "stdout",
          "text": [
            "Overwriting app.py\n"
          ]
        }
      ]
    },
    {
      "cell_type": "code",
      "source": [
        "!nohup streamlit run app.py &\n",
        "url = ngrok.connect(port='8501')\n",
        "url"
      ],
      "metadata": {
        "colab": {
          "base_uri": "https://localhost:8080/",
          "height": 53
        },
        "id": "_JOiJ0XTNUkT",
        "outputId": "f0195482-949f-41e0-b598-eff484ce3caf"
      },
      "execution_count": 7,
      "outputs": [
        {
          "output_type": "stream",
          "name": "stdout",
          "text": [
            "nohup: appending output to 'nohup.out'\n"
          ]
        },
        {
          "output_type": "execute_result",
          "data": {
            "application/vnd.google.colaboratory.intrinsic+json": {
              "type": "string"
            },
            "text/plain": [
              "'http://5f96-35-186-163-194.ngrok.io'"
            ]
          },
          "metadata": {},
          "execution_count": 7
        }
      ]
    }
  ]
}